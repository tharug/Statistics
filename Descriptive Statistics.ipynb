{
 "cells": [
  {
   "cell_type": "code",
   "execution_count": 1,
   "metadata": {},
   "outputs": [],
   "source": [
    "import pandas as pd\n",
    "import numpy as np\n",
    "import scipy.stats as stats\n",
    "\n",
    "import matplotlib.pyplot as plt\n",
    "import seaborn as sns"
   ]
  },
  {
   "cell_type": "code",
   "execution_count": 2,
   "metadata": {},
   "outputs": [],
   "source": [
    "%matplotlib inline\n",
    "sns.set_palette('pastel')"
   ]
  },
  {
   "cell_type": "markdown",
   "metadata": {},
   "source": [
    "### Datatypes\n",
    "The choice of appropriate statistical procedure dependes on data type we have to deal with. Data can be broadly categorized in to two types; \n",
    "* Quantitative (Numarical)\n",
    "* Qualitative  (Categorical)\n",
    "\n",
    "Quantitative data are any data that measures or are associated with a measure of the quantity of something. Quantitative data can be subdivided into;\n",
    "* __Discrete data__  \n",
    "    Discrete data only takes on only certain numerical values, and if the range is restricted, then the number of possible values is finite. \n",
    "    Examples include;\n",
    "    1. Counts\n",
    "    2. Number of arrivals\n",
    "    3. Number of successes\n",
    "* __Continuous data__  \n",
    "    Continuous data results of measuring on a continuous scale.;\n",
    "    1. Height\n",
    "    2. Weight\n",
    "    3. Length\n",
    "    \n",
    "Distinction between discrete and continuous is not always clear cut. Sometimes in is convenient to treat discrete data  as if they were continuous.\n",
    "\n",
    "Qualitative (Categorical data)\n",
    "Quntitative data are any data that are representative of a characteristics or traits of the objects being studied. Quantitative data can be of two types.\n",
    "* __Nominal__  \n",
    "    If the categories of a quantitative variable is unordered, the qualitative variable is said to be defined on a nominal scale, the word nominal refers to the fact that the categories are merely names.\n",
    "* __Ordinal__  \n",
    "    Categorical variables that can be logically ranked is called _ordinal data_\n",
    "\n",
    "    \n"
   ]
  },
  {
   "cell_type": "code",
   "execution_count": 4,
   "metadata": {},
   "outputs": [
    {
     "name": "stdout",
     "output_type": "stream",
     "text": [
      "<class 'pandas.core.frame.DataFrame'>\n",
      "RangeIndex: 100 entries, 0 to 99\n",
      "Data columns (total 13 columns):\n",
      "age                         99 non-null float64\n",
      "gender                      99 non-null object\n",
      "grade                       99 non-null float64\n",
      "hispanic                    99 non-null object\n",
      "race                        78 non-null object\n",
      "height                      100 non-null float64\n",
      "weight                      100 non-null float64\n",
      "helmet_12m                  99 non-null object\n",
      "text_while_driving_30d      92 non-null object\n",
      "physically_active_7d        100 non-null int64\n",
      "hours_tv_per_school_day     95 non-null object\n",
      "strength_training_7d        100 non-null int64\n",
      "school_night_hours_sleep    91 non-null object\n",
      "dtypes: float64(4), int64(2), object(7)\n",
      "memory usage: 10.2+ KB\n"
     ]
    }
   ],
   "source": [
    "df = pd.read_csv('./Data/yrbss_samp.csv')\n",
    "df.info()"
   ]
  },
  {
   "cell_type": "markdown",
   "metadata": {},
   "source": [
    "### Graphically Displaying of Categorical Data\n",
    "If each observatio falls into exactly one of the classes,we say that the classes or categories are exhaustive and exclusive. For observations that can be placed in to categories, we can count how many observations fall into each of the categories. This _frequancy counts_ describe how the data collection is distributed across the classes or categories.\n",
    "We can compute the _relative frequencies_ by dividing the count for each category by the number of items in the sample."
   ]
  },
  {
   "cell_type": "code",
   "execution_count": 5,
   "metadata": {},
   "outputs": [
    {
     "name": "stdout",
     "output_type": "stream",
     "text": [
      "Frequency Counts\n",
      " female    51\n",
      "male      48\n",
      "Name: gender, dtype: int64 \n",
      "\n",
      "Relative Frequencies\n",
      " female    0.515152\n",
      "male      0.484848\n",
      "Name: gender, dtype: float64\n"
     ]
    }
   ],
   "source": [
    "# Obtain frequency counts for variable 'Sepal.Length'\n",
    "print ('Frequency Counts\\n',df['gender'].value_counts(),'\\n')\n",
    "print ('Relative Frequencies\\n',df['gender'].value_counts(normalize=True))"
   ]
  },
  {
   "cell_type": "code",
   "execution_count": 6,
   "metadata": {},
   "outputs": [
    {
     "data": {
      "text/plain": [
       "<matplotlib.axes._subplots.AxesSubplot at 0x1ed5981d0f0>"
      ]
     },
     "execution_count": 6,
     "metadata": {},
     "output_type": "execute_result"
    },
    {
     "data": {
      "image/png": "[encoded data removed]",
      "text/plain": [
       "<matplotlib.figure.Figure at 0x1ed5981de48>"
      ]
     },
     "metadata": {},
     "output_type": "display_data"
    }
   ],
   "source": [
    "# plotting frequency counts\n",
    "sns.countplot(x='gender',data=df)"
   ]
  },
  {
   "cell_type": "markdown",
   "metadata": {},
   "source": [
    "### Displaying Statistical Datasets\n",
    "#### Univariate Data\n",
    "Univariate or single variable data refers to data where we're only observing one attribute or a characteristic."
   ]
  },
  {
   "cell_type": "markdown",
   "metadata": {},
   "source": [
    "**Dot plot**  \n",
    "A __dot plot__ is a one-variable scatterplot. In cases where relativly few discrete values are on the $x$-axis, it may be helpful to spread overlapping data points slightly, by adding jitter to show each data point."
   ]
  },
  {
   "cell_type": "code",
   "execution_count": 7,
   "metadata": {},
   "outputs": [
    {
     "data": {
      "text/plain": [
       "<matplotlib.axes._subplots.AxesSubplot at 0x1ed599b4f60>"
      ]
     },
     "execution_count": 7,
     "metadata": {},
     "output_type": "execute_result"
    },
    {
     "data": {
      "image/png": "[encoded data removed]",
      "text/plain": [
       "<matplotlib.figure.Figure at 0x1ed58529828>"
      ]
     },
     "metadata": {},
     "output_type": "display_data"
    }
   ],
   "source": [
    "plt.figure(figsize=(10,0.5))\n",
    "sns.stripplot('height', data=df,size=10, alpha= 0.5, edgecolor='gray', linewidth=0.5)"
   ]
  },
  {
   "cell_type": "markdown",
   "metadata": {},
   "source": [
    "**Histogram**  \n",
    "Histogram is a frequently used method of displaying the distribution of continuous numerical data. Histograms are specially convenient for displaying the shape of the distribution."
   ]
  },
  {
   "cell_type": "code",
   "execution_count": 8,
   "metadata": {},
   "outputs": [
    {
     "data": {
      "image/png": "[encoded data removed]",
      "text/plain": [
       "<matplotlib.figure.Figure at 0x1ed55195048>"
      ]
     },
     "metadata": {},
     "output_type": "display_data"
    }
   ],
   "source": [
    "plt.hist(df['height']);"
   ]
  },
  {
   "cell_type": "markdown",
   "metadata": {},
   "source": [
    "The exact shape depicted by a histogram will depend not only on the data but also on various other choices made while drawing the histogram such as, how many bins are used, whether the bins are equally spaced across the range of the variable, and just where the divisions between bins are located. But _reasonable_ choices of these arguments will lead to histograms of similar shape, and we can use these shapes to describe the underlying distribution as well as the histogram that represent it.  \n",
    "A distribution is positivly skewed, when the the data is clustered at the lower end and the tail points towerds the higher or more positive scores.  \n",
    "If the data is clustered at the higher end and the tail points towards the lower values the distribution is said to be negativly skewed."
   ]
  },
  {
   "cell_type": "markdown",
   "metadata": {},
   "source": [
    "#### Cumulative Frequencies\n",
    "A cumulative frequency curve indicates the number of data with less than a given value."
   ]
  },
  {
   "cell_type": "code",
   "execution_count": 10,
   "metadata": {},
   "outputs": [],
   "source": [
    "def ecdf(x):\n",
    "    x = np.sort(x)\n",
    "    y = np.arange(len(x))\n",
    "    \n",
    "    return (x, y/len(x))    "
   ]
  },
  {
   "cell_type": "code",
   "execution_count": 11,
   "metadata": {},
   "outputs": [
    {
     "data": {
      "text/plain": [
       "[<matplotlib.lines.Line2D at 0x1ed5a13dfd0>]"
      ]
     },
     "execution_count": 11,
     "metadata": {},
     "output_type": "execute_result"
    },
    {
     "data": {
      "image/png": "[encoded data removed]",
      "text/plain": [
       "<matplotlib.figure.Figure at 0x1ed5a1b0080>"
      ]
     },
     "metadata": {},
     "output_type": "display_data"
    }
   ],
   "source": [
    "x, y = ecdf(df['height'])\n",
    "\n",
    "plt.figure(figsize=(4,4))\n",
    "plt.plot(x,y)"
   ]
  },
  {
   "cell_type": "markdown",
   "metadata": {},
   "source": [
    "### Measures of Central Tendency\n",
    "There are three commonly used measures of central tendency; the mean, the mode, and the median\n",
    "\n",
    "#### Mode\n",
    "The mode is simply the observation that occurs the most frequently in the data set. It is possible for the mode to take on several values (Where more than one values occures the highest number of times).\n",
    "\n",
    "When there two modes the distribution is said to be bimodal, if the data set has more than two modes it's known as multimodel.\n",
    "\n",
    "#### Mean\n",
    "For a set of n numerical measurements labled $x={\\{x_1, x_2,x_3,...x_n\\}}$ the sample mean $\\bar x$ is calculated as:\n",
    "    $$\\bar x=\\frac{x_1+x_2+x_3+...+x_n}{n}=\\frac{1}{n}\\sum_{i=1}^nx_i$$;\n",
    "    \n",
    "#### Median\n",
    "The _median_ is the middle of the observations,so that if the observations are placed in order median is the middle most value (if the number of data points is odd) or the average of the middle-most values (if the number of data points is even).\n",
    "\n",
    "$$median=\\begin{cases}\n",
    "x_\\frac{n}{2} \\text{if n is odd} \\\\\n",
    "\\\\\n",
    "\\frac{x_\\frac{n}{2}+x_{\\frac{n}{2}+1}}{2} \\text {if n is even}\n",
    "\\end{cases}$$\n",
    "\n",
    "**Comparing mean to median**  \n",
    "If a distribution is (approximately) symmetric, the mean and median will be(approximately) the same. If the distribution is positively skewed, the large values in the tail of the distribution will increase the mean, but not the median, So the mean will be larger than the median. Similarly, the mean of a negatively skewed distribution will be smaller than the median."
   ]
  },
  {
   "cell_type": "markdown",
   "metadata": {},
   "source": [
    "In a case of quantitative variable with skewed distribution, the median is a good choice for the measure of center. This is related to the fact that the mean can be highly influenced by an outlier."
   ]
  },
  {
   "cell_type": "markdown",
   "metadata": {},
   "source": [
    "#### Order Statistic\n",
    "Given a data set $x_1, x_2,..., x_{n-1}, x_n $ we can sort the values to obtain an increasing sequence,\n",
    "$$x_{(1)} \\leq x_{(2)} \\leq ... \\leq x_{(n-1)} \\leq x_{(n)}$$\n",
    "The resulting values are called the order statistic. The $k^{th}$ entry in the list, $x_{(k)}$, is the $k^{th}$ order statistic, and approximately $100\\frac{k}{n}$ of the observations fall below $x_{(k)}$\n",
    "\n",
    "#### Percentile and Quartile\n",
    "For a number q between 0 and 100, the $q^{th}$ percentile is a value such that $q$ percentage of observations are less than or equal to it.\n",
    "The 50<sup>th</sup> percentile of a data collection it's the median. The $25^{th}$ percentile is also refered to as the *__first quartile__*, the 75th percentile is refered to as the *__third quartile__*"
   ]
  },
  {
   "cell_type": "markdown",
   "metadata": {},
   "source": [
    "#### Measures of Spread\n",
    "\n",
    "#### Range\n",
    "The range is obtained by computing the difference between the largest observed value of the variable in a data set and the smallest one. In using range, a great deal of information is ignored, since only the larges and smallest values of the variable is considered.\n",
    "\n",
    "#### Interquartile Range\n",
    "We know that the sample quartiles are resistant to extreams, and a measure of spread with them is the interquartile range (IQR), defined as the difference between Q1 and Q3. The interquartile range represent the lenght of the interval covered by the center half of the observed values of the variable.\n",
    "\n",
    "#### Five Number Summary\n",
    "The minimum, maximum and the quartiles are refered to as the _five number summary_ of the variable, and provides a way to communicate information on the center and variation of a variable.\n",
    "\n",
    "#### Variance and Standard Deviation\n",
    "\n",
    "Variance is a summary statistic used to describe the variability or speard of a distribution. The variance for a set of values is given by;\n",
    "$$s^2=\\frac{1}{n}\\sum_i(x_i-\\bar x)^2$$\n",
    "\n",
    "The square root of variance,s, is the __standard deviation__. Since the variance is a representation of the average squared distance, the standard deviation provides a value interpretable with respective to the scale of the original observation.\n",
    "\n",
    "#### Median Absolute Deviation\n",
    "When computing the standard deviation, the distance to the mean are squared, thereby assigning more weight  to larger deviations.Therefore, the standard deviation is very sensitive to outliers.Alternatively, a more robust measure of dispersion, the median absolute deviation can be used. It is robust since the median is less sensitive to outliers and the distances are not squared.\n",
    "\n",
    "$$MAD=median(\\lvert x_i - \\tilde x_{0.5}\\rvert)$$\n"
   ]
  },
  {
   "cell_type": "markdown",
   "metadata": {},
   "source": [
    "##### Boxplot\n",
    "The five number summary can also be presented graphically using a boxplot, also called box and whisker plot.The bottom and the top of the box marks the first and third quartile, and the line through the middle of the box shows the median. The wiskers are drown extending to the largest and smallest non-outlier. \n",
    "A common criteria for identifying outlies is check if the value is 1.5 IQR away from the first and third quartile. Outliers, values 1.5 IQR away from the top and bottom of the box, is marked with a special symbol."
   ]
  },
  {
   "cell_type": "code",
   "execution_count": 12,
   "metadata": {},
   "outputs": [
    {
     "data": {
      "text/plain": [
       "<matplotlib.axes._subplots.AxesSubplot at 0x1ed5a1c59b0>"
      ]
     },
     "execution_count": 12,
     "metadata": {},
     "output_type": "execute_result"
    },
    {
     "data": {
      "image/png": "[encoded data removed]",
      "text/plain": [
       "<matplotlib.figure.Figure at 0x1ed5a1d5c50>"
      ]
     },
     "metadata": {},
     "output_type": "display_data"
    }
   ],
   "source": [
    "sns.boxplot(x = 'height', data = df)"
   ]
  },
  {
   "cell_type": "markdown",
   "metadata": {},
   "source": [
    "### Robust Statistics\n",
    "Robust statisticsare designed such that outliers have little affect on thier values."
   ]
  },
  {
   "cell_type": "code",
   "execution_count": 13,
   "metadata": {},
   "outputs": [
    {
     "name": "stdout",
     "output_type": "stream",
     "text": [
      "Original dataset \n",
      " [ 1.5   1.78  1.75  1.68  1.7   1.57  1.78  1.63  1.63  1.83] \n",
      "\n",
      "Dataset after outlier introduced \n",
      " [  1.5    1.78   1.75   1.68   1.7    1.57   1.78   1.63   1.63  30.  ]\n"
     ]
    },
    {
     "data": {
      "text/html": [
       "<div>\n",
       "<table border=\"1\" class=\"dataframe\">\n",
       "  <thead>\n",
       "    <tr style=\"text-align: right;\">\n",
       "      <th></th>\n",
       "      <th>Without outlier</th>\n",
       "      <th>With outlier</th>\n",
       "    </tr>\n",
       "  </thead>\n",
       "  <tbody>\n",
       "    <tr>\n",
       "      <th>IQR</th>\n",
       "      <td>0.142500</td>\n",
       "      <td>0.142500</td>\n",
       "    </tr>\n",
       "    <tr>\n",
       "      <th>Standard deviation</th>\n",
       "      <td>0.098514</td>\n",
       "      <td>8.499767</td>\n",
       "    </tr>\n",
       "    <tr>\n",
       "      <th>mean</th>\n",
       "      <td>1.685000</td>\n",
       "      <td>4.502000</td>\n",
       "    </tr>\n",
       "    <tr>\n",
       "      <th>median</th>\n",
       "      <td>1.690000</td>\n",
       "      <td>1.690000</td>\n",
       "    </tr>\n",
       "  </tbody>\n",
       "</table>\n",
       "</div>"
      ],
      "text/plain": [
       "                    Without outlier  With outlier\n",
       "IQR                        0.142500      0.142500\n",
       "Standard deviation         0.098514      8.499767\n",
       "mean                       1.685000      4.502000\n",
       "median                     1.690000      1.690000"
      ]
     },
     "execution_count": 13,
     "metadata": {},
     "output_type": "execute_result"
    }
   ],
   "source": [
    "data1 = np.array(df['height'][:10])\n",
    "print ('Original dataset','\\n',data1,'\\n')\n",
    "# suppose the 10th element was an outlier\n",
    "data2 = np.array(df['height'][:10])\n",
    "data2[9] = 30\n",
    "print ('Dataset after outlier introduced','\\n',data2)\n",
    "\n",
    "# Presenting statistics for the two scenarios\n",
    "pd.DataFrame({'mean':[np.mean(data1),np.mean(data2)],\n",
    "              'median':[np.median(data1),np.median(data2)],\n",
    "              'Standard deviation':[np.std(data1),np.std(data2)],\n",
    "              'IQR':[stats.iqr(data1),stats.iqr(data2)]},\n",
    "            index = ['Without outlier','With outlier']).T"
   ]
  },
  {
   "cell_type": "markdown",
   "metadata": {},
   "source": [
    "The IQR and the median are robust to outliers, while mean and standard deviation are much more effected by changes in extreme observations."
   ]
  },
  {
   "cell_type": "markdown",
   "metadata": {},
   "source": [
    "### Exploring Two or More Variables\n",
    "When exploring data, it's oftan useful to be able to investigate the relationship multiple variables.\n",
    "#### Covariance\n",
    "The covariance express how much two numrical variables change togather. Whereas variance measures how a single variable deviates from it's mean, covariance measures how two variables vary in tandem from their means.\n",
    "\n",
    "$$cov_{xy}=\\frac{1}{n-1}\\sum_i(x_i+\\bar x)(y_i-\\bar y)$$\n",
    "\n",
    "Wheb we get a positive result for $r_{xy}$ it shows that increases in one variable is related to the increase of the other variable. When the result is negative, it shows that as x increases, y decrease, and vice versa.\n",
    "The problem with covariance is that it depend upon the scale of measure used.\n",
    "#### Correlation\n",
    "To overcome the dependence on the measurement scale, we can use the correlation, which can be derived by dividing the covariance by the standard deviations of both variables.\n",
    "\n",
    "$$r = \\frac{cov_{xy}}{s_xs_y} = $$\n",
    "Correlation always falls between -1 and 1. A correlation of +1 means that as one variable increases, the other increase by a proportionate amount. Conversly, a correlation of -1 indicates a perfect negative relationship.\n",
    "\n",
    "#### Scatterplot\n",
    "Scatterplot provides a visual impression of the nature of relation between the x and y values in a bivariate dataset."
   ]
  },
  {
   "cell_type": "code",
   "execution_count": 15,
   "metadata": {},
   "outputs": [
    {
     "data": {
      "text/plain": [
       "<matplotlib.collections.PathCollection at 0x1ed5a3a7160>"
      ]
     },
     "execution_count": 15,
     "metadata": {},
     "output_type": "execute_result"
    },
    {
     "data": {
      "image/png": "[encoded data removed]",
      "text/plain": [
       "<matplotlib.figure.Figure at 0x1ed5a34d7f0>"
      ]
     },
     "metadata": {},
     "output_type": "display_data"
    }
   ],
   "source": [
    "plt.scatter(x= df['height'],y=df['weight'],c='lightblue')"
   ]
  },
  {
   "cell_type": "markdown",
   "metadata": {},
   "source": [
    "#### Side-by-Side Comparisons\n",
    "When one variable of interest is quantitative and the other is categorical, graphical or numaric summaries can be made for each of the groups defined."
   ]
  },
  {
   "cell_type": "code",
   "execution_count": 14,
   "metadata": {},
   "outputs": [
    {
     "data": {
      "text/plain": [
       "<matplotlib.axes._subplots.AxesSubplot at 0x1ed5a2255f8>"
      ]
     },
     "execution_count": 14,
     "metadata": {},
     "output_type": "execute_result"
    },
    {
     "data": {
      "image/png": "[encoded data removed]",
      "text/plain": [
       "<matplotlib.figure.Figure at 0x1ed5a14ee80>"
      ]
     },
     "metadata": {},
     "output_type": "display_data"
    }
   ],
   "source": [
    "sns.boxplot(x= 'gender', y= 'height', data = df)"
   ]
  },
  {
   "cell_type": "code",
   "execution_count": 16,
   "metadata": {},
   "outputs": [
    {
     "data": {
      "text/html": [
       "<div>\n",
       "<table border=\"1\" class=\"dataframe\">\n",
       "  <thead>\n",
       "    <tr style=\"text-align: right;\">\n",
       "      <th></th>\n",
       "      <th>mean</th>\n",
       "      <th>std</th>\n",
       "      <th>iqr</th>\n",
       "    </tr>\n",
       "    <tr>\n",
       "      <th>gender</th>\n",
       "      <th></th>\n",
       "      <th></th>\n",
       "      <th></th>\n",
       "    </tr>\n",
       "  </thead>\n",
       "  <tbody>\n",
       "    <tr>\n",
       "      <th>female</th>\n",
       "      <td>1.648431</td>\n",
       "      <td>0.070011</td>\n",
       "      <td>0.100</td>\n",
       "    </tr>\n",
       "    <tr>\n",
       "      <th>male</th>\n",
       "      <td>1.747917</td>\n",
       "      <td>0.076990</td>\n",
       "      <td>0.085</td>\n",
       "    </tr>\n",
       "  </tbody>\n",
       "</table>\n",
       "</div>"
      ],
      "text/plain": [
       "            mean       std    iqr\n",
       "gender                           \n",
       "female  1.648431  0.070011  0.100\n",
       "male    1.747917  0.076990  0.085"
      ]
     },
     "execution_count": 16,
     "metadata": {},
     "output_type": "execute_result"
    }
   ],
   "source": [
    "df.groupby('gender')['height'].agg([np.mean,np.std,stats.iqr])"
   ]
  },
  {
   "cell_type": "markdown",
   "metadata": {},
   "source": [
    "### Cross Tabulation"
   ]
  },
  {
   "cell_type": "code",
   "execution_count": 18,
   "metadata": {},
   "outputs": [
    {
     "data": {
      "text/html": [
       "<div>\n",
       "<table border=\"1\" class=\"dataframe\">\n",
       "  <thead>\n",
       "    <tr style=\"text-align: right;\">\n",
       "      <th>gender</th>\n",
       "      <th>female</th>\n",
       "      <th>male</th>\n",
       "    </tr>\n",
       "    <tr>\n",
       "      <th>race</th>\n",
       "      <th></th>\n",
       "      <th></th>\n",
       "    </tr>\n",
       "  </thead>\n",
       "  <tbody>\n",
       "    <tr>\n",
       "      <th>American Indian or Alaska Native</th>\n",
       "      <td>1</td>\n",
       "      <td>0</td>\n",
       "    </tr>\n",
       "    <tr>\n",
       "      <th>Black or African American</th>\n",
       "      <td>10</td>\n",
       "      <td>13</td>\n",
       "    </tr>\n",
       "    <tr>\n",
       "      <th>Native Hawaiian or Other Pacific Islander</th>\n",
       "      <td>0</td>\n",
       "      <td>1</td>\n",
       "    </tr>\n",
       "    <tr>\n",
       "      <th>White</th>\n",
       "      <td>26</td>\n",
       "      <td>27</td>\n",
       "    </tr>\n",
       "  </tbody>\n",
       "</table>\n",
       "</div>"
      ],
      "text/plain": [
       "gender                                     female  male\n",
       "race                                                   \n",
       "American Indian or Alaska Native                1     0\n",
       "Black or African American                      10    13\n",
       "Native Hawaiian or Other Pacific Islander       0     1\n",
       "White                                          26    27"
      ]
     },
     "execution_count": 18,
     "metadata": {},
     "output_type": "execute_result"
    }
   ],
   "source": [
    "pd.crosstab(df['race'],df['gender'])"
   ]
  },
  {
   "cell_type": "code",
   "execution_count": null,
   "metadata": {},
   "outputs": [],
   "source": []
  }
 ],
 "metadata": {
  "anaconda-cloud": {},
  "kernelspec": {
   "display_name": "Python [conda root]",
   "language": "python",
   "name": "conda-root-py"
  },
  "language_info": {
   "codemirror_mode": {
    "name": "ipython",
    "version": 3
   },
   "file_extension": ".py",
   "mimetype": "text/x-python",
   "name": "python",
   "nbconvert_exporter": "python",
   "pygments_lexer": "ipython3",
   "version": "3.5.2"
  }
 },
 "nbformat": 4,
 "nbformat_minor": 2
}
