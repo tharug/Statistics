{
 "cells": [
  {
   "cell_type": "code",
   "execution_count": 1,
   "metadata": {
    "collapsed": true
   },
   "outputs": [],
   "source": [
    "# Import packages for statistical analysis\n",
    "import numpy as np\n",
    "import scipy.stats as stats\n",
    "import pandas as pd\n",
    "\n",
    "# Import package for visualisation\n",
    "import matplotlib.pyplot as plt\n",
    "import seaborn as sns\n",
    "%matplotlib inline"
   ]
  },
  {
   "cell_type": "code",
   "execution_count": 2,
   "metadata": {},
   "outputs": [
    {
     "data": {
      "text/html": [
       "<div>\n",
       "<table border=\"1\" class=\"dataframe\">\n",
       "  <thead>\n",
       "    <tr style=\"text-align: right;\">\n",
       "      <th></th>\n",
       "      <th>age</th>\n",
       "      <th>gender</th>\n",
       "      <th>grade</th>\n",
       "      <th>hispanic</th>\n",
       "      <th>race</th>\n",
       "      <th>height</th>\n",
       "      <th>weight</th>\n",
       "      <th>helmet_12m</th>\n",
       "      <th>text_while_driving_30d</th>\n",
       "      <th>physically_active_7d</th>\n",
       "      <th>hours_tv_per_school_day</th>\n",
       "      <th>strength_training_7d</th>\n",
       "      <th>school_night_hours_sleep</th>\n",
       "    </tr>\n",
       "  </thead>\n",
       "  <tbody>\n",
       "    <tr>\n",
       "      <th>0</th>\n",
       "      <td>14.0</td>\n",
       "      <td>female</td>\n",
       "      <td>9</td>\n",
       "      <td>not</td>\n",
       "      <td>Black or African American</td>\n",
       "      <td>NaN</td>\n",
       "      <td>NaN</td>\n",
       "      <td>never</td>\n",
       "      <td>0</td>\n",
       "      <td>4.0</td>\n",
       "      <td>5+</td>\n",
       "      <td>0.0</td>\n",
       "      <td>8</td>\n",
       "    </tr>\n",
       "    <tr>\n",
       "      <th>1</th>\n",
       "      <td>14.0</td>\n",
       "      <td>female</td>\n",
       "      <td>9</td>\n",
       "      <td>not</td>\n",
       "      <td>Black or African American</td>\n",
       "      <td>NaN</td>\n",
       "      <td>NaN</td>\n",
       "      <td>never</td>\n",
       "      <td>NaN</td>\n",
       "      <td>2.0</td>\n",
       "      <td>5+</td>\n",
       "      <td>0.0</td>\n",
       "      <td>6</td>\n",
       "    </tr>\n",
       "    <tr>\n",
       "      <th>2</th>\n",
       "      <td>15.0</td>\n",
       "      <td>female</td>\n",
       "      <td>9</td>\n",
       "      <td>hispanic</td>\n",
       "      <td>Native Hawaiian or Other Pacific Islander</td>\n",
       "      <td>1.73</td>\n",
       "      <td>84.37</td>\n",
       "      <td>never</td>\n",
       "      <td>30</td>\n",
       "      <td>7.0</td>\n",
       "      <td>5+</td>\n",
       "      <td>0.0</td>\n",
       "      <td>&lt;5</td>\n",
       "    </tr>\n",
       "    <tr>\n",
       "      <th>3</th>\n",
       "      <td>15.0</td>\n",
       "      <td>female</td>\n",
       "      <td>9</td>\n",
       "      <td>not</td>\n",
       "      <td>Black or African American</td>\n",
       "      <td>1.60</td>\n",
       "      <td>55.79</td>\n",
       "      <td>never</td>\n",
       "      <td>0</td>\n",
       "      <td>0.0</td>\n",
       "      <td>2</td>\n",
       "      <td>0.0</td>\n",
       "      <td>6</td>\n",
       "    </tr>\n",
       "    <tr>\n",
       "      <th>4</th>\n",
       "      <td>15.0</td>\n",
       "      <td>female</td>\n",
       "      <td>9</td>\n",
       "      <td>not</td>\n",
       "      <td>Black or African American</td>\n",
       "      <td>1.50</td>\n",
       "      <td>46.72</td>\n",
       "      <td>did not ride</td>\n",
       "      <td>did not drive</td>\n",
       "      <td>2.0</td>\n",
       "      <td>3</td>\n",
       "      <td>1.0</td>\n",
       "      <td>9</td>\n",
       "    </tr>\n",
       "  </tbody>\n",
       "</table>\n",
       "</div>"
      ],
      "text/plain": [
       "    age  gender grade  hispanic                                       race  \\\n",
       "0  14.0  female     9       not                  Black or African American   \n",
       "1  14.0  female     9       not                  Black or African American   \n",
       "2  15.0  female     9  hispanic  Native Hawaiian or Other Pacific Islander   \n",
       "3  15.0  female     9       not                  Black or African American   \n",
       "4  15.0  female     9       not                  Black or African American   \n",
       "\n",
       "   height  weight    helmet_12m text_while_driving_30d  physically_active_7d  \\\n",
       "0     NaN     NaN         never                      0                   4.0   \n",
       "1     NaN     NaN         never                    NaN                   2.0   \n",
       "2    1.73   84.37         never                     30                   7.0   \n",
       "3    1.60   55.79         never                      0                   0.0   \n",
       "4    1.50   46.72  did not ride          did not drive                   2.0   \n",
       "\n",
       "  hours_tv_per_school_day  strength_training_7d school_night_hours_sleep  \n",
       "0                      5+                   0.0                        8  \n",
       "1                      5+                   0.0                        6  \n",
       "2                      5+                   0.0                       <5  \n",
       "3                       2                   0.0                        6  \n",
       "4                       3                   1.0                        9  "
      ]
     },
     "execution_count": 2,
     "metadata": {},
     "output_type": "execute_result"
    }
   ],
   "source": [
    "yrbss = pd.read_csv('./Data/yrbss.csv')\n",
    "yrbss.head()"
   ]
  },
  {
   "cell_type": "code",
   "execution_count": 3,
   "metadata": {
    "collapsed": true
   },
   "outputs": [],
   "source": [
    "heights=yrbss['height'].dropna().values"
   ]
  },
  {
   "cell_type": "markdown",
   "metadata": {},
   "source": [
    "### Parameter\n",
    "**Parameter** is an characteristic of the population. Parameters may be used to describe the probability distribution, for example a normal distribution is definded by two parameters, the mean and the standard deviation. If these are specified, the entier distribution is precisely knwon.  \n",
    "Parameters are fixed constants, however, their values are usually unknown because it is infeasible to measure the entier population."
   ]
  },
  {
   "cell_type": "code",
   "execution_count": 4,
   "metadata": {},
   "outputs": [
    {
     "data": {
      "text/plain": [
       "1.6912409571508071"
      ]
     },
     "execution_count": 4,
     "metadata": {},
     "output_type": "execute_result"
    }
   ],
   "source": [
    "# Suppose that the heights dataset is the population of interest, the population means is thus calculated as;\n",
    "pop_mean=heights.mean()\n",
    "pop_mean"
   ]
  },
  {
   "cell_type": "code",
   "execution_count": 5,
   "metadata": {},
   "outputs": [
    {
     "data": {
      "text/plain": [
       "0.10469308968966508"
      ]
     },
     "execution_count": 5,
     "metadata": {},
     "output_type": "execute_result"
    }
   ],
   "source": [
    "# Population standard deviation is;\n",
    "pop_std=heights.std()\n",
    "pop_std"
   ]
  },
  {
   "cell_type": "markdown",
   "metadata": {},
   "source": [
    "### Point Estimates\n",
    "The sample statistices provide a 'best guess' for the value of a parameter, and are called an **estimator**.\n",
    "\n",
    "The value calculated for an estimator is called an **point estimate** and can generally very from one sample to another.\n",
    "As an example, the sample mean ($\\bar x$) is an estimator for the population mean($\\mu$)\n",
    "\n",
    "When the expected value of a sample statistic is equal to the population parameter, the sample statistic is said to be an **unbiased estimator**.\n"
   ]
  },
  {
   "cell_type": "code",
   "execution_count": 6,
   "metadata": {},
   "outputs": [
    {
     "data": {
      "text/plain": [
       "1.7024999999999999"
      ]
     },
     "execution_count": 6,
     "metadata": {},
     "output_type": "execute_result"
    }
   ],
   "source": [
    "# Suppose we take sample of 10 observations;\n",
    "sample_heights=np.random.choice(heights,100)\n",
    "sample_heights.mean()"
   ]
  },
  {
   "cell_type": "markdown",
   "metadata": {},
   "source": [
    "If we were to take multiple random samples from the population we can build up a **sampling distribution**, which represents the distribution of the point estimate bases on samples of a fixed size."
   ]
  },
  {
   "cell_type": "code",
   "execution_count": 7,
   "metadata": {
    "collapsed": true
   },
   "outputs": [],
   "source": [
    "# Sampling distribution for 1000 samples of size 100\n",
    "def sample_dist(population, sample_size, samples):\n",
    "    sample_means=[]\n",
    "    \n",
    "    for draw in range(samples):\n",
    "        sample = np.random.choice(population,sample_size)\n",
    "        sample_means.append(sample.mean())\n",
    "        \n",
    "    return sample_means"
   ]
  },
  {
   "cell_type": "code",
   "execution_count": 8,
   "metadata": {},
   "outputs": [
    {
     "data": {
      "image/png": "[encoded data removed]",
      "text/plain": [
       "<matplotlib.figure.Figure at 0x1354d277278>"
      ]
     },
     "metadata": {},
     "output_type": "display_data"
    }
   ],
   "source": [
    "sample_mean=sample_dist(heights,100,10000)\n",
    "\n",
    "plt.hist(x = sample_mean, bins = np.linspace(1.65, 1.74, 50), edgecolor = 'g', alpha = 0.5, color = 'lightblue')\n",
    "plt.vlines(pop_mean,ymax=800,ymin=0,linestyles='dashed', colors='gray');"
   ]
  },
  {
   "cell_type": "markdown",
   "metadata": {},
   "source": [
    "The distribution of the sample means (point estimate) tend to 'fall around' the population mean (parameter). With some variability around the population mean. This variability can be quantified by taking the standard deviation of the sample means.\n",
    "\n",
    "### Sampling and Non-sampling Errors\n",
    "When the samples are selected randomly, rarely would we get the sample statistic that equals the population parameter. The difference between the value of a sample statistic obtained and the value of the corresponding population parameter is called the **sampling error**.\n",
    "\n",
    "The sampling error occures because of chance, errors that occure for other reasons, such as errors made in data collection, non-random sampling or human error, are called **nonsampling error**.\n",
    "\n",
    "For sample and population mean;\n",
    "$$\\mu - \\bar x = \\text{sampling error + nonsampling error}$$\n",
    "\n"
   ]
  },
  {
   "cell_type": "markdown",
   "metadata": {},
   "source": [
    "### Central Limit Theorem\n",
    "If a sample consist of at least 30 independent observations and the data are not strongly skewed, then the distribution of the sample means can be approximated by a normal model."
   ]
  },
  {
   "cell_type": "markdown",
   "metadata": {},
   "source": [
    "The standard deviation associated with an estimate is called the _**standard error**_, and describes the typical error or uncertainty associated with the estimate. \n",
    "\n",
    "When the sampling distribution is for the sample mean,  this is called the _standard error of the mean_ (SEM) and is equal to;\n",
    "$$SE=\\frac{\\sigma}{\\sqrt{n}}$$\n",
    "\n",
    "Since the population standard deviation is seldom known, the standard error of the mean is usually estimated as;\n",
    "$$SE=\\frac{s}{\\sqrt{n}}$$\n",
    "where $s$ is the sample standard deviation.\n",
    "\n",
    "A large SEM indicates that there is lot of variability between the means of different samples. As the sample size increase the variability between sample means reduce."
   ]
  },
  {
   "cell_type": "code",
   "execution_count": 9,
   "metadata": {},
   "outputs": [
    {
     "data": {
      "image/png": "[encoded data removed]",
      "text/plain": [
       "<matplotlib.figure.Figure at 0x1354e710c50>"
      ]
     },
     "metadata": {},
     "output_type": "display_data"
    }
   ],
   "source": [
    "# Computing sampling means for 10000 samples of size 100\n",
    "sample_dist1 = sample_dist(heights,100,10000)\n",
    "\n",
    "plt.hist(x = sample_dist1, bins = np.linspace(1.655, 1.725, 50), edgecolor = 'blue', alpha = 0.75, color = 'lightblue' )\n",
    "\n",
    "# Computing sampling means for 10000 samples of size 500\n",
    "sample_dist2 = sample_dist(heights,500,10000)\n",
    "\n",
    "plt.hist(x = sample_dist2, bins = np.linspace(1.655, 1.725, 50), edgecolor = 'g', alpha = 0.75, color = 'orange')\n",
    "plt.vlines(1.691,ymax=1250,ymin=0);"
   ]
  },
  {
   "cell_type": "markdown",
   "metadata": {},
   "source": [
    "The *z values* for a given sample mean can be calculated as;\n",
    "$$z=\\frac{\\bar x - \\mu}{SE_{\\bar x}}$$\n",
    "where $SE_{\\bar x}$ is the standard error."
   ]
  },
  {
   "cell_type": "markdown",
   "metadata": {},
   "source": [
    "### Confidence Interval\n",
    "A point estimate provides a single plausible value for a parameter. However, a point estimate is rarely perfect. Instead it logical to providing a plausibe _range of values_ within which the true parameter value will fall. Such a range is called **_confidence interval_**. Each confidence interval is constructed with regard to a **confidence level**, which states the probability that the confidence interval contains the true population parameter.\n",
    "\n",
    "For a normal distribution, 95% of observations fall within 1.96 standard deviations of the mean. Thus,\n",
    "$$P(-1.96 \\leq Z \\leq 1.96)=.95$$\n",
    "\n",
    "Sampling distribution of $\\bar x$ is nearly normal when; \n",
    "1. Sample size is large ($n \\geq 30$ is a good rule of thumb) \n",
    "2. Sample observations are independent\n",
    "3. The population distribution is not strongly skewed\n",
    "\n",
    "Under these conditions the sampling distribution is nearly normal with a mean of $\\mu$ and a standard deviation of $SE_\\bar x$. For a random variable $\\bar x$;\n",
    "\n",
    "$$P(-1.96 \\leq \\frac{\\bar x - \\mu}{SE_\\bar x}\\leq 1.96)=.95$$\n",
    "\n",
    "$$P(-1.96\\times{SE_\\bar x} \\leq \\bar x - \\mu \\leq 1.96\\times{SE_\\bar x})=.95$$\n",
    "\n",
    "$$P(\\bar x - (1.96\\times{SE_\\bar x}) \\leq \\mu \\leq \\bar x  + (1.96\\times{SE_\\bar x}))=.95$$\n",
    "\n",
    "Thus the interval $\\bar x \\pm (1.96\\times{SE_\\bar x})$ is called the 95% confidence interval for the mean.\n",
    "\n",
    "If we generated many samples, we would expect approximately 95% of the samples to product confidence intervales that correctly contain the population mean."
   ]
  },
  {
   "cell_type": "markdown",
   "metadata": {},
   "source": [
    "Generally, if the point estimates follows the normal model with standard error SE, then a confidence interval for the population parameter is;\n",
    "$$\\text{point estimate} \\pm z^*SE$$\n",
    "where $z^*$ correspond to the confidence level selected.\n",
    "The value $z^*SE$ is called the **margin of error**"
   ]
  },
  {
   "cell_type": "code",
   "execution_count": 10,
   "metadata": {
    "collapsed": true
   },
   "outputs": [],
   "source": [
    "# Suppose we have 100 samples with 100 observations each\n",
    "# We'll store the sample mean and the corresponding [margin of error]\n",
    "sample_mean = []\n",
    "margin_err =[]\n",
    "\n",
    "for sample in range(100):\n",
    "    sample_heights = np.random.choice(heights,100)\n",
    "    sample_mean.append(sample_heights.mean())\n",
    "    margin_err.append(1.96 * (np.std(heights)/np.sqrt(100)))"
   ]
  },
  {
   "cell_type": "code",
   "execution_count": 11,
   "metadata": {},
   "outputs": [
    {
     "data": {
      "text/plain": [
       "(0, 101)"
      ]
     },
     "execution_count": 11,
     "metadata": {},
     "output_type": "execute_result"
    },
    {
     "data": {
      "image/png": "[encoded data removed]",
      "text/plain": [
       "<matplotlib.figure.Figure at 0x1354f1355f8>"
      ]
     },
     "metadata": {},
     "output_type": "display_data"
    }
   ],
   "source": [
    "plt.figure(figsize=(12,6))\n",
    "plt.errorbar(x=np.arange(1,101),y=sample_mean, yerr=margin_err,linestyle='None',marker='.')\n",
    "plt.hlines(y=np.mean(heights), xmin= 0, xmax= 101, linestyles='dashed', color ='gray',linewidth = 0.8)\n",
    "plt.xlim((0,101))"
   ]
  },
  {
   "cell_type": "code",
   "execution_count": 12,
   "metadata": {},
   "outputs": [
    {
     "name": "stdout",
     "output_type": "stream",
     "text": [
      "Number of confident intervals capturing the true mean: 96\n"
     ]
    }
   ],
   "source": [
    "# Counting how many of the samples captured the population mean.\n",
    "conf_int=[]\n",
    "for sample in range(100):\n",
    "    if np.mean(heights) >= (sample_mean[sample] - margin_err[sample]) and np.mean(heights) <= (sample_mean[sample] + margin_err[sample]):\n",
    "        conf_int.append(True)\n",
    "    else:\n",
    "        conf_int.append(False)\n",
    "\n",
    "print ('Number of confident intervals capturing the true mean:', np.sum(conf_int))"
   ]
  },
  {
   "cell_type": "markdown",
   "metadata": {},
   "source": [
    "### T-distribution\n",
    "In situations where the population is normal but its standard deviation $\\sigma$ is unknown, the **Student's *t* distribution** should be used instead of the normal z distribution.  \n",
    "\n",
    "Like the normal distribution, the *t* distribution curve is symmetric about the mean, however it is flatter and wider than the standard normal curve. i.e it has larger standard deviation. However, as the sample size increase, the *t* distribution approaches the standard normal distribution. \n",
    "\n",
    "The shape of a particular *t* distribution depends on the number of degrees of freedom. The larger the degrees of freedom, the more closely the distribution approximates the normal model."
   ]
  },
  {
   "cell_type": "code",
   "execution_count": 8,
   "metadata": {},
   "outputs": [
    {
     "data": {
      "image/png": "[encoded data removed]",
      "text/plain": [
       "<matplotlib.figure.Figure at 0x1f7e793c128>"
      ]
     },
     "metadata": {},
     "output_type": "display_data"
    }
   ],
   "source": [
    "for df in [1,2,4,8]:\n",
    "    x = np.arange(-3,3,0.1)\n",
    "    plt.plot(x, stats.t.pdf(x,df = df))"
   ]
  },
  {
   "cell_type": "markdown",
   "metadata": {},
   "source": [
    "To proceed with the *t* distribution for inference about a single mean, we first check two conditions,  \n",
    "* Independence of observations  \n",
    "    If the random sample consist of less than 10% of the population, or if the data are from an experiment or random process\n",
    "* Observations come from a nearly normal distribution  \n",
    "\n",
    "When using a *t* distribution we can revide the confidence interval formula as;\n",
    "$$\\bar x \\pm t^*_{df}SE_{\\bar x}$$\n",
    "Where $t^*_{df}$ is obtained from *t* distribution for n-1 degrees of freedom and a given confidence level."
   ]
  },
  {
   "cell_type": "markdown",
   "metadata": {},
   "source": [
    "#### Hypothesis Testing\n",
    "A hypothesis test evaluates two mutually exclusive statements about a population to determine which statement is best supported by the sample.\n",
    "\n",
    "The null hypothesis ($H_0$) often represent either a skeptical perspective that there is no change, no effect, no difference. The alternative hypothesis states an alternative claim under consideration. It is always useful to state the null hypothesis as an equality($\\mu=7$) while the alternative always uses an inequality ($\\mu > 7, \\mu < 7$, or $\\mu \\neq 7$). The parameter value if the null value is true is called the null value.\n",
    "\n",
    "We will not reject the null hypothesis ($H_0$), unless there is convincing evidence in favor of the alternative hypothesis.\n",
    "\n",
    "#### Types of Errors\n",
    "When we carry out a hypothesis test, there are two types of mistakes we could make.  \n",
    "Rejecting the null hypothesis when it is true is a **type 1 error**. A **type 2 error** occures when we fail to reject the null hypothesis when the alternative is actually true."
   ]
  },
  {
   "cell_type": "markdown",
   "metadata": {},
   "source": [
    "<table>\n",
    "<tbody>\n",
    "  <tr>\n",
    "    <td> </td>\n",
    "    <td> </td>\n",
    "    <td colspan=\"2\" align=\"right\">**Test Conclusion**</td>\n",
    "  </tr>\n",
    "  <tr>\n",
    "    <td rowspan = \"4\">**Truth**</td>\n",
    "    <td></td>\n",
    "    <td>Do not reject $H_0$</td>\n",
    "    <td>Reject $H_0$ in favor of $H_A$</td>\n",
    "  </tr>\n",
    "    <tr>\n",
    "    <td></td>\n",
    "    <td>$H_0$ is true</td>\n",
    "    <td>Ok</td>\n",
    "    <td>Type I error</td>\n",
    "  </tr>\n",
    "    <tr>\n",
    "    <td></td>\n",
    "    <td>$H_A$ true</td>\n",
    "    <td>Type II error</td>\n",
    "    <td>Ok</td>\n",
    "  </tr>\n",
    "</tbody>\n",
    "</table>"
   ]
  },
  {
   "cell_type": "markdown",
   "metadata": {},
   "source": [
    "The probability of a Type 1 error (rejecting a true null hypothesis) is denoted by $\\alpha$, and is refered to as the level of significance. The probability of a Type 2 error (not rejecting a false hypothesis) is denoted by $\\beta$\n",
    "\n",
    "#### Test Statistic\n",
    "Test statistic is a value computed from the sample data that can be used to check the agreement between the sample data and the null hypothesis.\n",
    "\n",
    "For an example, supposing the null hypothesis ($\\mu_0 = 3.09$) is true, we can create the sampling distribution for the YBRSS data as follows;"
   ]
  },
  {
   "cell_type": "code",
   "execution_count": 43,
   "metadata": {},
   "outputs": [
    {
     "name": "stdout",
     "output_type": "stream",
     "text": [
      "Sample Mean: \t 2.78\n",
      "Difference Between the null value and the sample mean:\t 0.31000000000000005\n",
      "\n",
      "Sample Standard Deviation:\t 2.5764277203096153\n",
      "Standard Error (Std. of the sampling distribution):\t 0.257642772031\n"
     ]
    }
   ],
   "source": [
    "yrbss_sample = pd.read_csv('./Data/yrbss_samp.csv')\n",
    "strengh_training = yrbss_sample['strength_training_7d'].dropna()\n",
    "strengh_training_mean =  strengh_training.mean()\n",
    "strengh_training_std =  strengh_training.std()\n",
    "\n",
    "strengh_training_se = strengh_training_std/np.sqrt(len(strengh_training))\n",
    "\n",
    "null_value = 3.09\n",
    "\n",
    "print ('Sample Mean: \\t',strengh_training_mean)\n",
    "print ('Difference Between the null value and the sample mean:\\t', null_value - strengh_training_mean)\n",
    "print ('\\nSample Standard Deviation:\\t',strengh_training_std)\n",
    "print ('Standard Error (Std. of the sampling distribution):\\t',strengh_training_se)"
   ]
  },
  {
   "cell_type": "code",
   "execution_count": 45,
   "metadata": {},
   "outputs": [
    {
     "data": {
      "text/plain": [
       "<matplotlib.collections.LineCollection at 0x1f7e985ff28>"
      ]
     },
     "execution_count": 45,
     "metadata": {},
     "output_type": "execute_result"
    },
    {
     "data": {
      "image/png": "[encoded data removed]",
      "text/plain": [
       "<matplotlib.figure.Figure at 0x1f7e975a828>"
      ]
     },
     "metadata": {},
     "output_type": "display_data"
    }
   ],
   "source": [
    "x = np.arange(2.25,4,0.01)\n",
    "sampling_dist = stats.t(loc = null_value, scale = strengh_training_se, df = len(strengh_training)-1)\n",
    "\n",
    "plt.figure(figsize=(5,3))\n",
    "plt.plot(x, sampling_dist.pdf(x)*strengh_training_se)\n",
    "plt.vlines(null_value, ymin= 0, ymax= 0.45, linestyles= 'dotted', colors= 'grey')\n",
    "plt.vlines(strengh_training_mean, ymin= 0, ymax= 0.45, linestyles= 'dashed', colors= 'orange')"
   ]
  },
  {
   "cell_type": "code",
   "execution_count": 47,
   "metadata": {},
   "outputs": [
    {
     "data": {
      "text/plain": [
       "0.11588102561619848"
      ]
     },
     "execution_count": 47,
     "metadata": {},
     "output_type": "execute_result"
    }
   ],
   "source": [
    "## Using the sampling distribution we can calculate the probability of getting a sampling mean less than or equal to the observed sample mean\n",
    "sampling_dist.cdf(strengh_training_mean)"
   ]
  },
  {
   "cell_type": "markdown",
   "metadata": {},
   "source": [
    "Typically when performing a hypothesis test about the population mean we will not rely on the sampling distribution to calculate the differece between the null value and the sample mean, instead we will use the test statistic $t$, which has **_t distribution_**, to perform the hypothesis testing about the population mean $\\mu$, the **t** statistic is calculated as;\n",
    "$$t = \\frac{\\bar x -\\mu}{SE_x}$$"
   ]
  },
  {
   "cell_type": "code",
   "execution_count": 48,
   "metadata": {},
   "outputs": [
    {
     "name": "stdout",
     "output_type": "stream",
     "text": [
      "-1.20321636643\n"
     ]
    }
   ],
   "source": [
    "t_value = (strengh_training_mean - null_value) / strengh_training_se\n",
    "\n",
    "print (t_value)"
   ]
  },
  {
   "cell_type": "code",
   "execution_count": 50,
   "metadata": {},
   "outputs": [
    {
     "data": {
      "text/plain": [
       "0.11588102561619848"
      ]
     },
     "execution_count": 50,
     "metadata": {},
     "output_type": "execute_result"
    }
   ],
   "source": [
    "t_dis = stats.t(df= len(strengh_training)-1)\n",
    "t_dis.cdf(t_value)"
   ]
  },
  {
   "cell_type": "markdown",
   "metadata": {},
   "source": [
    " \n",
    "\n",
    "#### One-Tailed and Two Tailed Tests\n",
    "When we state the null hypothesis as an equality (i.e $\\mu=3.09$) there are three possible alternative hypothesis;\n",
    "\n",
    "$H_a \\neq 3.09$  : Two sided hypothesis  \n",
    "$H_a < 3.09$  : one sided hypothesis  (left tailed test)  \n",
    "$H_a > 3.09$  : one sided hypothesis  (right tailed test)\n",
    "\n",
    "We will always use an two sided test unless it made clear prior to data collection that the test should be one sided. \n"
   ]
  },
  {
   "cell_type": "code",
   "execution_count": 15,
   "metadata": {},
   "outputs": [
    {
     "data": {
      "text/plain": [
       "[2.2750201668193153, 3.2849798331806843]"
      ]
     },
     "execution_count": 15,
     "metadata": {},
     "output_type": "execute_result"
    }
   ],
   "source": [
    "se = strengh_training.std()/np.sqrt(len(strengh_training))\n",
    "ci = [strengh_training.mean()-1.96*se,strengh_training.mean()+1.96*se]\n",
    "ci"
   ]
  },
  {
   "cell_type": "code",
   "execution_count": 16,
   "metadata": {},
   "outputs": [
    {
     "data": {
      "text/plain": [
       "0.23176205123239696"
      ]
     },
     "execution_count": 16,
     "metadata": {},
     "output_type": "execute_result"
    }
   ],
   "source": [
    "t_value = (strengh_training.mean() - 3.09)/se\n",
    "p_value = stats.t.cdf(t_value,df=len(strengh_training)-1 )*2\n",
    "p_value"
   ]
  },
  {
   "cell_type": "code",
   "execution_count": 17,
   "metadata": {},
   "outputs": [
    {
     "data": {
      "text/plain": [
       "Ttest_1sampResult(statistic=-1.2032163664298205, pvalue=0.23176205123239688)"
      ]
     },
     "execution_count": 17,
     "metadata": {},
     "output_type": "execute_result"
    }
   ],
   "source": [
    "stats.ttest_1samp(strengh_training,3.09)"
   ]
  },
  {
   "cell_type": "code",
   "execution_count": null,
   "metadata": {},
   "outputs": [],
   "source": []
  },
  {
   "cell_type": "markdown",
   "metadata": {},
   "source": [
    "### Checking for Normality in Sample\n",
    "In many statistical tests we assume that the sampling distribution is normally distributed. However, since we do not have access to this distribution, we cannot look at the shape and see whether it is normally distributed. However, we know that if the sample data is approximately normal then the sampling distribution will be so as well.\n",
    "\n",
    "#### Visual Methods for checking normaity\n",
    "Normal Probalility plots (quantile - quantile plot) can be used to assess the normality of a distribution. Q-Q plot plots the expected quantile of the data if the data is normally distributed against the actual scores. If the values fall on a diagonal line then the variable is normally distributed, but deviations from the diagonal show deviations from normality."
   ]
  },
  {
   "cell_type": "code",
   "execution_count": 18,
   "metadata": {},
   "outputs": [
    {
     "data": {
      "text/plain": [
       "[<matplotlib.lines.Line2D at 0x21244335160>]"
      ]
     },
     "execution_count": 18,
     "metadata": {},
     "output_type": "execute_result"
    },
    {
     "data": {
      "image/png": "[encoded data removed]",
      "text/plain": [
       "<matplotlib.figure.Figure at 0x21243441208>"
      ]
     },
     "metadata": {},
     "output_type": "display_data"
    }
   ],
   "source": [
    "sample= np.random.choice(heights,100)\n",
    "\n",
    "osm, osr = stats.probplot(sample)[0]\n",
    "slope, intercept, r = stats.probplot(sample)[1]\n",
    "plt.plot(osm, osr,marker='.',linestyle='None')\n",
    "plt.plot(osm , slope*osm +intercept)"
   ]
  },
  {
   "cell_type": "code",
   "execution_count": 13,
   "metadata": {
    "scrolled": true
   },
   "outputs": [
    {
     "data": {
      "image/png": "[encoded data removed]",
      "text/plain": [
       "<matplotlib.figure.Figure at 0xcbe1240>"
      ]
     },
     "metadata": {},
     "output_type": "display_data"
    }
   ],
   "source": [
    "plt.hist(sample,bins=np.arange(1.450,1.950,.05));"
   ]
  },
  {
   "cell_type": "markdown",
   "metadata": {},
   "source": [
    "pvalue less than 0.05 indicates a deviation from normality."
   ]
  },
  {
   "cell_type": "markdown",
   "metadata": {},
   "source": [
    "The skew and the kurtosis of a distribution can be calculated using the functions skew() and kurtosis() functions. The values should be zero in a normal distribution. Positive values of skew indicates a pile-up of scores on the left of the distribution, whereas negative values indicate a pile-up on the right. Further the value is from zero, the more likely it is that data is not normally distributed."
   ]
  },
  {
   "cell_type": "code",
   "execution_count": 14,
   "metadata": {},
   "outputs": [
    {
     "name": "stdout",
     "output_type": "stream",
     "text": [
      "Skew of the distribution 0.368091822882\n",
      "kurtosis of the distribution -0.375431444581\n"
     ]
    }
   ],
   "source": [
    "print 'Skew of the distribution', stats.skew(sample)\n",
    "print 'kurtosis of the distribution', stats.kurtosis(sample)"
   ]
  },
  {
   "cell_type": "markdown",
   "metadata": {},
   "source": [
    "\n",
    "skewtest() and kurtosistest() functions can be used to see if the the skew and the kurtosis is different from a normal distribution."
   ]
  },
  {
   "cell_type": "code",
   "execution_count": 15,
   "metadata": {},
   "outputs": [
    {
     "data": {
      "text/plain": [
       "SkewtestResult(statistic=1.5585373511027543, pvalue=0.11910592097585736)"
      ]
     },
     "execution_count": 15,
     "metadata": {},
     "output_type": "execute_result"
    }
   ],
   "source": [
    "stats.skewtest(sample)"
   ]
  },
  {
   "cell_type": "code",
   "execution_count": 16,
   "metadata": {},
   "outputs": [
    {
     "data": {
      "text/plain": [
       "KurtosistestResult(statistic=-0.66445527691337902, pvalue=0.50639896399786166)"
      ]
     },
     "execution_count": 16,
     "metadata": {},
     "output_type": "execute_result"
    }
   ],
   "source": [
    "stats.kurtosistest(sample)"
   ]
  },
  {
   "cell_type": "markdown",
   "metadata": {},
   "source": [
    "Large samples will give rise to small standard errors and so when sample size are big, significant values will arise even from small deviations from normality. In larger samples it's OK to look for smaller p values. If the sample size is more than 200 or more it is more important to look at the shape of the distribution visually and to look at the values of the skew and kurtosis rather than calculate their significance."
   ]
  },
  {
   "cell_type": "markdown",
   "metadata": {},
   "source": [
    "#### Shapiro-Wilk test\n",
    "Shapiro-Wilk test compares the scores in the sample to a normally distributed set of scores from with the same mean and deviation. If the test is non-significant (p > 0.05) then the distribution of the sample can be assumed not to be significantly different  from a normal distribution. If the test is significant (p < 0.05) then the distribution is significantly different from a normal distribution."
   ]
  },
  {
   "cell_type": "code",
   "execution_count": 17,
   "metadata": {},
   "outputs": [
    {
     "data": {
      "text/plain": [
       "(0.9739632606506348, 0.04477466642856598)"
      ]
     },
     "execution_count": 17,
     "metadata": {},
     "output_type": "execute_result"
    }
   ],
   "source": [
    "stats.shapiro(sample)"
   ]
  },
  {
   "cell_type": "markdown",
   "metadata": {},
   "source": [
    "With large sample sizes it is very easy to get significant results from small deviations from normality."
   ]
  },
  {
   "cell_type": "code",
   "execution_count": 18,
   "metadata": {},
   "outputs": [
    {
     "data": {
      "text/plain": [
       "AndersonResult(statistic=0.75061406722498702, critical_values=array([ 0.555,  0.632,  0.759,  0.885,  1.053]), significance_level=array([ 15. ,  10. ,   5. ,   2.5,   1. ]))"
      ]
     },
     "execution_count": 18,
     "metadata": {},
     "output_type": "execute_result"
    }
   ],
   "source": [
    "stats.anderson(sample)"
   ]
  },
  {
   "cell_type": "code",
   "execution_count": null,
   "metadata": {
    "collapsed": true
   },
   "outputs": [],
   "source": []
  }
 ],
 "metadata": {
  "kernelspec": {
   "display_name": "Python [default]",
   "language": "python",
   "name": "python3"
  },
  "language_info": {
   "codemirror_mode": {
    "name": "ipython",
    "version": 3
   },
   "file_extension": ".py",
   "mimetype": "text/x-python",
   "name": "python",
   "nbconvert_exporter": "python",
   "pygments_lexer": "ipython3",
   "version": "3.5.2"
  }
 },
 "nbformat": 4,
 "nbformat_minor": 2
}
