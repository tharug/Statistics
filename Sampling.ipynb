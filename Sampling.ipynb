{
 "cells": [
  {
   "cell_type": "code",
   "execution_count": 1,
   "metadata": {
    "collapsed": true
   },
   "outputs": [],
   "source": [
    "# Import packages for statistical analysis\n",
    "import numpy as np\n",
    "import scipy.stats as stats\n",
    "import pandas as pd\n",
    "\n",
    "# Import package for visualisation\n",
    "import matplotlib.pyplot as plt\n",
    "import seaborn as sns\n",
    "%matplotlib inline"
   ]
  },
  {
   "cell_type": "code",
   "execution_count": 2,
   "metadata": {},
   "outputs": [
    {
     "data": {
      "text/html": [
       "<div>\n",
       "<table border=\"1\" class=\"dataframe\">\n",
       "  <thead>\n",
       "    <tr style=\"text-align: right;\">\n",
       "      <th></th>\n",
       "      <th>age</th>\n",
       "      <th>gender</th>\n",
       "      <th>grade</th>\n",
       "      <th>hispanic</th>\n",
       "      <th>race</th>\n",
       "      <th>height</th>\n",
       "      <th>weight</th>\n",
       "      <th>helmet_12m</th>\n",
       "      <th>text_while_driving_30d</th>\n",
       "      <th>physically_active_7d</th>\n",
       "      <th>hours_tv_per_school_day</th>\n",
       "      <th>strength_training_7d</th>\n",
       "      <th>school_night_hours_sleep</th>\n",
       "    </tr>\n",
       "  </thead>\n",
       "  <tbody>\n",
       "    <tr>\n",
       "      <th>0</th>\n",
       "      <td>14.0</td>\n",
       "      <td>female</td>\n",
       "      <td>9</td>\n",
       "      <td>not</td>\n",
       "      <td>Black or African American</td>\n",
       "      <td>NaN</td>\n",
       "      <td>NaN</td>\n",
       "      <td>never</td>\n",
       "      <td>0</td>\n",
       "      <td>4.0</td>\n",
       "      <td>5+</td>\n",
       "      <td>0.0</td>\n",
       "      <td>8</td>\n",
       "    </tr>\n",
       "    <tr>\n",
       "      <th>1</th>\n",
       "      <td>14.0</td>\n",
       "      <td>female</td>\n",
       "      <td>9</td>\n",
       "      <td>not</td>\n",
       "      <td>Black or African American</td>\n",
       "      <td>NaN</td>\n",
       "      <td>NaN</td>\n",
       "      <td>never</td>\n",
       "      <td>NaN</td>\n",
       "      <td>2.0</td>\n",
       "      <td>5+</td>\n",
       "      <td>0.0</td>\n",
       "      <td>6</td>\n",
       "    </tr>\n",
       "    <tr>\n",
       "      <th>2</th>\n",
       "      <td>15.0</td>\n",
       "      <td>female</td>\n",
       "      <td>9</td>\n",
       "      <td>hispanic</td>\n",
       "      <td>Native Hawaiian or Other Pacific Islander</td>\n",
       "      <td>1.73</td>\n",
       "      <td>84.37</td>\n",
       "      <td>never</td>\n",
       "      <td>30</td>\n",
       "      <td>7.0</td>\n",
       "      <td>5+</td>\n",
       "      <td>0.0</td>\n",
       "      <td>&lt;5</td>\n",
       "    </tr>\n",
       "    <tr>\n",
       "      <th>3</th>\n",
       "      <td>15.0</td>\n",
       "      <td>female</td>\n",
       "      <td>9</td>\n",
       "      <td>not</td>\n",
       "      <td>Black or African American</td>\n",
       "      <td>1.60</td>\n",
       "      <td>55.79</td>\n",
       "      <td>never</td>\n",
       "      <td>0</td>\n",
       "      <td>0.0</td>\n",
       "      <td>2</td>\n",
       "      <td>0.0</td>\n",
       "      <td>6</td>\n",
       "    </tr>\n",
       "    <tr>\n",
       "      <th>4</th>\n",
       "      <td>15.0</td>\n",
       "      <td>female</td>\n",
       "      <td>9</td>\n",
       "      <td>not</td>\n",
       "      <td>Black or African American</td>\n",
       "      <td>1.50</td>\n",
       "      <td>46.72</td>\n",
       "      <td>did not ride</td>\n",
       "      <td>did not drive</td>\n",
       "      <td>2.0</td>\n",
       "      <td>3</td>\n",
       "      <td>1.0</td>\n",
       "      <td>9</td>\n",
       "    </tr>\n",
       "  </tbody>\n",
       "</table>\n",
       "</div>"
      ],
      "text/plain": [
       "    age  gender grade  hispanic                                       race  \\\n",
       "0  14.0  female     9       not                  Black or African American   \n",
       "1  14.0  female     9       not                  Black or African American   \n",
       "2  15.0  female     9  hispanic  Native Hawaiian or Other Pacific Islander   \n",
       "3  15.0  female     9       not                  Black or African American   \n",
       "4  15.0  female     9       not                  Black or African American   \n",
       "\n",
       "   height  weight    helmet_12m text_while_driving_30d  physically_active_7d  \\\n",
       "0     NaN     NaN         never                      0                   4.0   \n",
       "1     NaN     NaN         never                    NaN                   2.0   \n",
       "2    1.73   84.37         never                     30                   7.0   \n",
       "3    1.60   55.79         never                      0                   0.0   \n",
       "4    1.50   46.72  did not ride          did not drive                   2.0   \n",
       "\n",
       "  hours_tv_per_school_day  strength_training_7d school_night_hours_sleep  \n",
       "0                      5+                   0.0                        8  \n",
       "1                      5+                   0.0                        6  \n",
       "2                      5+                   0.0                       <5  \n",
       "3                       2                   0.0                        6  \n",
       "4                       3                   1.0                        9  "
      ]
     },
     "execution_count": 2,
     "metadata": {},
     "output_type": "execute_result"
    }
   ],
   "source": [
    "yrbss = pd.read_csv('./Data/yrbss.csv')\n",
    "yrbss.head()"
   ]
  },
  {
   "cell_type": "code",
   "execution_count": 3,
   "metadata": {
    "collapsed": true
   },
   "outputs": [],
   "source": [
    "heights=yrbss['height'].dropna().values"
   ]
  },
  {
   "cell_type": "code",
   "execution_count": 4,
   "metadata": {},
   "outputs": [
    {
     "data": {
      "text/plain": [
       "1.6912409571508071"
      ]
     },
     "execution_count": 4,
     "metadata": {},
     "output_type": "execute_result"
    }
   ],
   "source": [
    "# Suppose that the heights dataset is the population of interest, the population means is thus calculated as;\n",
    "pop_mean=heights.mean()\n",
    "pop_mean"
   ]
  },
  {
   "cell_type": "code",
   "execution_count": 5,
   "metadata": {},
   "outputs": [
    {
     "data": {
      "text/plain": [
       "0.10469308968966508"
      ]
     },
     "execution_count": 5,
     "metadata": {},
     "output_type": "execute_result"
    }
   ],
   "source": [
    "# Population standard deviation is;\n",
    "pop_std=heights.std()\n",
    "pop_std"
   ]
  },
  {
   "cell_type": "code",
   "execution_count": 6,
   "metadata": {},
   "outputs": [
    {
     "data": {
      "text/plain": [
       "1.6793000000000005"
      ]
     },
     "execution_count": 6,
     "metadata": {},
     "output_type": "execute_result"
    }
   ],
   "source": [
    "# Suppose we take sample of 10 observations;\n",
    "sample_heights=np.random.choice(heights,100)\n",
    "sample_heights.mean()"
   ]
  },
  {
   "cell_type": "markdown",
   "metadata": {},
   "source": [
    "### Point Estimates\n",
    "The sample statistices provide a 'best guess' for the value of a parameter, and are called **point estimates**.If we obtain data by random sampling, then any statistic computed from that data is a random variable since its value depends on a random process. The distribution of this random variable is called a sampling distribution. \n",
    "\n",
    "Sampling distribution represents the distribution of the point estimates based on samples of a fixed size from a certain population. "
   ]
  },
  {
   "cell_type": "code",
   "execution_count": 7,
   "metadata": {
    "collapsed": true
   },
   "outputs": [],
   "source": [
    "# Sampling distribution for 1000 samples of size 100\n",
    "def sample_dist(population, sample_size, samples):\n",
    "    sample_means=[]\n",
    "    \n",
    "    for draw in range(samples):\n",
    "        sample = np.random.choice(population,sample_size)\n",
    "        sample_means.append(sample.mean())\n",
    "        \n",
    "    return sample_means"
   ]
  },
  {
   "cell_type": "code",
   "execution_count": 8,
   "metadata": {},
   "outputs": [
    {
     "data": {
      "image/png": "[encoded data removed]",
      "text/plain": [
       "<matplotlib.figure.Figure at 0x21243432f98>"
      ]
     },
     "metadata": {},
     "output_type": "display_data"
    }
   ],
   "source": [
    "sample_mean=sample_dist(heights,100,10000)\n",
    "\n",
    "plt.hist(x = sample_mean, bins = np.linspace(1.65, 1.74, 50), edgecolor = 'g', alpha = 0.5, color = 'lightblue')\n",
    "plt.vlines(pop_mean,ymax=800,ymin=0,linestyles='dashed', colors='gray');"
   ]
  },
  {
   "cell_type": "markdown",
   "metadata": {},
   "source": [
    "The distribution of the sample means (point estimate) tend to 'fall around' the population mean (parameter). With some variability around the population mean. This variability can be quantified by taking the standard deviation of the sample means."
   ]
  },
  {
   "cell_type": "markdown",
   "metadata": {},
   "source": [
    "### Central Limit Theorem\n",
    "If a sample consist of at least 30 independent observations and the data are not strongly skewed, then the distribution of the sample means can be approximated by a normal model."
   ]
  },
  {
   "cell_type": "markdown",
   "metadata": {},
   "source": [
    "The standard deviation associated with an estimate is called the _**standard error**_, and describes the typical error or uncertainty associated with the estimate. \n",
    "\n",
    "When the sampling distribution is for the sample mean,  this is called the _standard error of the mean_ (SEM) and is equal to;\n",
    "$$SE=\\frac{\\sigma}{\\sqrt{n}}$$\n",
    "\n",
    "Since the population standard deviation is seldom known, the standard error of the mean is usually estimated as;\n",
    "$$SE=\\frac{s}{\\sqrt{n}}$$\n",
    "where $s$ is the sample standard deviation.\n",
    "\n",
    "A large SEM indicates that there is lot of variability between the means of different samples. As the sample size increase the variability between sample means reduce."
   ]
  },
  {
   "cell_type": "code",
   "execution_count": 9,
   "metadata": {},
   "outputs": [
    {
     "data": {
      "image/png": "[encoded data removed]",
      "text/plain": [
       "<matplotlib.figure.Figure at 0x2124368d908>"
      ]
     },
     "metadata": {},
     "output_type": "display_data"
    }
   ],
   "source": [
    "# Computing sampling means for 10000 samples of size 100\n",
    "sample_dist1 = sample_dist(heights,100,10000)\n",
    "\n",
    "plt.hist(x = sample_dist1, bins = np.linspace(1.655, 1.725, 50), edgecolor = 'blue', alpha = 0.75, color = 'lightblue' )\n",
    "\n",
    "# Computing sampling means for 10000 samples of size 500\n",
    "sample_dist2 = sample_dist(heights,500,10000)\n",
    "\n",
    "plt.hist(x = sample_dist2, bins = np.linspace(1.655, 1.725, 50), edgecolor = 'g', alpha = 0.75, color = 'orange')\n",
    "plt.vlines(1.691,ymax=1250,ymin=0);"
   ]
  },
  {
   "cell_type": "markdown",
   "metadata": {},
   "source": [
    "### Confidence Interval\n",
    "A point estimate provides a single plausible value for a parameter. However, a point estimate is rarely perfect. Instead it logical to providing a plausibe _range of values_ within which the true parameter value will fall. Such a range is called **_confidence interval_**.\n",
    "\n",
    "For a normal distribution, 95% of observations fall within 1.96 standard deviations of the mean. Thus,\n",
    "$$P(-1.96 \\leq Z \\leq 1.96)=.95$$\n",
    "\n",
    "Sampling distribution of $\\bar x$ is nearly normal when; \n",
    "1. Sample size is large ($n \\geq 30$ is a good rule of thumb) \n",
    "2. Sample observations are independent\n",
    "3. The population distribution is not strongly skewed\n",
    "\n",
    "Under these conditions the sampling distribution is nearly normal with a mean of $\\mu$ and a standard deviation of $SE_\\bar x$. For a random variable $\\bar x$;\n",
    "\n",
    "$$P(-1.96 \\leq \\frac{\\bar x - \\mu}{SE_\\bar x}\\leq 1.96)=.95$$\n",
    "\n",
    "$$P(-1.96\\times{SE_\\bar x} \\leq \\bar x - \\mu \\leq 1.96\\times{SE_\\bar x})=.95$$\n",
    "\n",
    "$$P(\\bar x - (1.96\\times{SE_\\bar x}) \\leq \\mu \\leq \\bar x  + (1.96\\times{SE_\\bar x}))=.95$$\n",
    "\n",
    "Thus the interval $\\bar x \\pm (1.96\\times{SE_\\bar x})$ is called the 95% confidence interval for the mean.\n",
    "\n",
    "If we generated many samples, we would expect approximately 95% of the samples to product confidence intervales that correctly contain the population mean."
   ]
  },
  {
   "cell_type": "markdown",
   "metadata": {},
   "source": [
    "Generally, if the point estimates follows the normal model with standard error SE, then a confidence interval for the population parameter is;\n",
    "$$\\text{point estimate} \\pm z^*SE$$\n",
    "where $z^*$ correspond to the confidence level selected.\n",
    "The value $z^*$ is called the **margin of error**"
   ]
  },
  {
   "cell_type": "code",
   "execution_count": 10,
   "metadata": {
    "collapsed": true
   },
   "outputs": [],
   "source": [
    "# Suppose we have 100 samples with 100 observations each\n",
    "sample_mean = []\n",
    "margin_err =[]\n",
    "\n",
    "for sample in range(100):\n",
    "    sample_heights = np.random.choice(heights,100)\n",
    "    sample_mean.append(sample_heights.mean())\n",
    "    margin_err.append(1.96 * (np.std(heights)/np.sqrt(100)))"
   ]
  },
  {
   "cell_type": "code",
   "execution_count": 22,
   "metadata": {},
   "outputs": [
    {
     "data": {
      "text/plain": [
       "(0, 101)"
      ]
     },
     "execution_count": 22,
     "metadata": {},
     "output_type": "execute_result"
    },
    {
     "data": {
      "image/png": "[encoded data removed]",
      "text/plain": [
       "<matplotlib.figure.Figure at 0x212441bdc18>"
      ]
     },
     "metadata": {},
     "output_type": "display_data"
    }
   ],
   "source": [
    "plt.figure(figsize=(12,6))\n",
    "plt.errorbar(x=np.arange(1,101),y=sample_mean, yerr=margin_err,linestyle='None',marker='.')\n",
    "plt.hlines(y=np.mean(heights), xmin= 0, xmax= 101, linestyles='dashed', color ='gray',linewidth = 0.8)\n",
    "plt.xlim((0,101))"
   ]
  },
  {
   "cell_type": "code",
   "execution_count": 12,
   "metadata": {},
   "outputs": [
    {
     "name": "stdout",
     "output_type": "stream",
     "text": [
      "Number of confident intervals capturing the true mean: 98\n"
     ]
    }
   ],
   "source": [
    "conf_int=[]\n",
    "for sample in range(100):\n",
    "    if np.mean(heights) >= (sample_mean[sample] - margin_err[sample]) and np.mean(heights) <= (sample_mean[sample] + margin_err[sample]):\n",
    "        conf_int.append(True)\n",
    "    else:\n",
    "        conf_int.append(False)\n",
    "\n",
    "print ('Number of confident intervals capturing the true mean:', np.sum(conf_int))"
   ]
  },
  {
   "cell_type": "markdown",
   "metadata": {},
   "source": [
    "#### Hypothisis Testing\n"
   ]
  },
  {
   "cell_type": "code",
   "execution_count": 13,
   "metadata": {},
   "outputs": [
    {
     "data": {
      "text/html": [
       "<div>\n",
       "<table border=\"1\" class=\"dataframe\">\n",
       "  <thead>\n",
       "    <tr style=\"text-align: right;\">\n",
       "      <th></th>\n",
       "      <th>age</th>\n",
       "      <th>gender</th>\n",
       "      <th>grade</th>\n",
       "      <th>hispanic</th>\n",
       "      <th>race</th>\n",
       "      <th>height</th>\n",
       "      <th>weight</th>\n",
       "      <th>helmet_12m</th>\n",
       "      <th>text_while_driving_30d</th>\n",
       "      <th>physically_active_7d</th>\n",
       "      <th>hours_tv_per_school_day</th>\n",
       "      <th>strength_training_7d</th>\n",
       "      <th>school_night_hours_sleep</th>\n",
       "    </tr>\n",
       "  </thead>\n",
       "  <tbody>\n",
       "    <tr>\n",
       "      <th>0</th>\n",
       "      <td>16.0</td>\n",
       "      <td>female</td>\n",
       "      <td>11.0</td>\n",
       "      <td>not</td>\n",
       "      <td>Black or African American</td>\n",
       "      <td>1.50</td>\n",
       "      <td>52.62</td>\n",
       "      <td>never</td>\n",
       "      <td>1-2</td>\n",
       "      <td>0</td>\n",
       "      <td>4</td>\n",
       "      <td>0</td>\n",
       "      <td>8</td>\n",
       "    </tr>\n",
       "    <tr>\n",
       "      <th>1</th>\n",
       "      <td>17.0</td>\n",
       "      <td>male</td>\n",
       "      <td>11.0</td>\n",
       "      <td>not</td>\n",
       "      <td>White</td>\n",
       "      <td>1.78</td>\n",
       "      <td>74.84</td>\n",
       "      <td>rarely</td>\n",
       "      <td>0</td>\n",
       "      <td>7</td>\n",
       "      <td>1</td>\n",
       "      <td>5</td>\n",
       "      <td>7</td>\n",
       "    </tr>\n",
       "    <tr>\n",
       "      <th>2</th>\n",
       "      <td>17.0</td>\n",
       "      <td>male</td>\n",
       "      <td>11.0</td>\n",
       "      <td>not</td>\n",
       "      <td>White</td>\n",
       "      <td>1.75</td>\n",
       "      <td>106.60</td>\n",
       "      <td>never</td>\n",
       "      <td>0</td>\n",
       "      <td>7</td>\n",
       "      <td>2</td>\n",
       "      <td>0</td>\n",
       "      <td>7</td>\n",
       "    </tr>\n",
       "    <tr>\n",
       "      <th>3</th>\n",
       "      <td>15.0</td>\n",
       "      <td>male</td>\n",
       "      <td>10.0</td>\n",
       "      <td>hispanic</td>\n",
       "      <td>NaN</td>\n",
       "      <td>1.68</td>\n",
       "      <td>66.68</td>\n",
       "      <td>never</td>\n",
       "      <td>did not drive</td>\n",
       "      <td>3</td>\n",
       "      <td>2</td>\n",
       "      <td>1</td>\n",
       "      <td>5</td>\n",
       "    </tr>\n",
       "    <tr>\n",
       "      <th>4</th>\n",
       "      <td>18.0</td>\n",
       "      <td>male</td>\n",
       "      <td>12.0</td>\n",
       "      <td>not</td>\n",
       "      <td>Black or African American</td>\n",
       "      <td>1.70</td>\n",
       "      <td>80.29</td>\n",
       "      <td>never</td>\n",
       "      <td>did not drive</td>\n",
       "      <td>0</td>\n",
       "      <td>2</td>\n",
       "      <td>2</td>\n",
       "      <td>6</td>\n",
       "    </tr>\n",
       "  </tbody>\n",
       "</table>\n",
       "</div>"
      ],
      "text/plain": [
       "    age  gender  grade  hispanic                       race  height  weight  \\\n",
       "0  16.0  female   11.0       not  Black or African American    1.50   52.62   \n",
       "1  17.0    male   11.0       not                      White    1.78   74.84   \n",
       "2  17.0    male   11.0       not                      White    1.75  106.60   \n",
       "3  15.0    male   10.0  hispanic                        NaN    1.68   66.68   \n",
       "4  18.0    male   12.0       not  Black or African American    1.70   80.29   \n",
       "\n",
       "  helmet_12m text_while_driving_30d  physically_active_7d  \\\n",
       "0      never                    1-2                     0   \n",
       "1     rarely                      0                     7   \n",
       "2      never                      0                     7   \n",
       "3      never          did not drive                     3   \n",
       "4      never          did not drive                     0   \n",
       "\n",
       "  hours_tv_per_school_day  strength_training_7d school_night_hours_sleep  \n",
       "0                       4                     0                        8  \n",
       "1                       1                     5                        7  \n",
       "2                       2                     0                        7  \n",
       "3                       2                     1                        5  \n",
       "4                       2                     2                        6  "
      ]
     },
     "execution_count": 13,
     "metadata": {},
     "output_type": "execute_result"
    }
   ],
   "source": [
    "yrbss_sample = pd.read_csv('./Data/yrbss_samp.csv')\n",
    "yrbss_sample.head()"
   ]
  },
  {
   "cell_type": "code",
   "execution_count": 14,
   "metadata": {},
   "outputs": [
    {
     "data": {
      "text/plain": [
       "2.78"
      ]
     },
     "execution_count": 14,
     "metadata": {},
     "output_type": "execute_result"
    }
   ],
   "source": [
    "strengh_training = yrbss_sample['strength_training_7d'].dropna()\n",
    "strengh_training.mean()"
   ]
  },
  {
   "cell_type": "code",
   "execution_count": 15,
   "metadata": {},
   "outputs": [
    {
     "data": {
      "text/plain": [
       "[2.2750201668193153, 3.2849798331806843]"
      ]
     },
     "execution_count": 15,
     "metadata": {},
     "output_type": "execute_result"
    }
   ],
   "source": [
    "se = strengh_training.std()/np.sqrt(len(strengh_training))\n",
    "ci = [strengh_training.mean()-1.96*se,strengh_training.mean()+1.96*se]\n",
    "ci"
   ]
  },
  {
   "cell_type": "code",
   "execution_count": 16,
   "metadata": {},
   "outputs": [
    {
     "data": {
      "text/plain": [
       "0.23176205123239696"
      ]
     },
     "execution_count": 16,
     "metadata": {},
     "output_type": "execute_result"
    }
   ],
   "source": [
    "t_value = (strengh_training.mean() - 3.09)/se\n",
    "p_value = stats.t.cdf(t_value,df=len(strengh_training)-1 )*2\n",
    "p_value"
   ]
  },
  {
   "cell_type": "code",
   "execution_count": 17,
   "metadata": {},
   "outputs": [
    {
     "data": {
      "text/plain": [
       "Ttest_1sampResult(statistic=-1.2032163664298205, pvalue=0.23176205123239688)"
      ]
     },
     "execution_count": 17,
     "metadata": {},
     "output_type": "execute_result"
    }
   ],
   "source": [
    "stats.ttest_1samp(strengh_training,3.09)"
   ]
  },
  {
   "cell_type": "code",
   "execution_count": null,
   "metadata": {},
   "outputs": [],
   "source": []
  },
  {
   "cell_type": "markdown",
   "metadata": {},
   "source": [
    "### Checking for Normality in Sample\n",
    "In many statistical tests we assume that the sampling distribution is normally distributed. However, since we do not have access to this distribution, we cannot look at the shape and see whether it is normally distributed. However, we know that if the sample data is approximately normal then the sampling distribution will be so as well.\n",
    "\n",
    "#### Visual Methods for checking normaity\n",
    "Normal Probalility plots (quantile - quantile plot) can be used to assess the normality of a distribution. Q-Q plot plots the expected quantile of the data if the data is normally distributed against the actual scores. If the values fall on a diagonal line then the variable is normally distributed, but deviations from the diagonal show deviations from normality."
   ]
  },
  {
   "cell_type": "code",
   "execution_count": 18,
   "metadata": {},
   "outputs": [
    {
     "data": {
      "text/plain": [
       "[<matplotlib.lines.Line2D at 0x21244335160>]"
      ]
     },
     "execution_count": 18,
     "metadata": {},
     "output_type": "execute_result"
    },
    {
     "data": {
      "image/png": "[encoded data removed]",
      "text/plain": [
       "<matplotlib.figure.Figure at 0x21243441208>"
      ]
     },
     "metadata": {},
     "output_type": "display_data"
    }
   ],
   "source": [
    "sample= np.random.choice(heights,100)\n",
    "\n",
    "osm, osr = stats.probplot(sample)[0]\n",
    "slope, intercept, r = stats.probplot(sample)[1]\n",
    "plt.plot(osm, osr,marker='.',linestyle='None')\n",
    "plt.plot(osm , slope*osm +intercept)"
   ]
  },
  {
   "cell_type": "code",
   "execution_count": 13,
   "metadata": {
    "scrolled": true
   },
   "outputs": [
    {
     "data": {
      "image/png": "[encoded data removed]",
      "text/plain": [
       "<matplotlib.figure.Figure at 0xcbe1240>"
      ]
     },
     "metadata": {},
     "output_type": "display_data"
    }
   ],
   "source": [
    "plt.hist(sample,bins=np.arange(1.450,1.950,.05));"
   ]
  },
  {
   "cell_type": "markdown",
   "metadata": {},
   "source": [
    "pvalue less than 0.05 indicates a deviation from normality."
   ]
  },
  {
   "cell_type": "markdown",
   "metadata": {},
   "source": [
    "The skew and the kurtosis of a distribution can be calculated using the functions skew() and kurtosis() functions. The values should be zero in a normal distribution. Positive values of skew indicates a pile-up of scores on the left of the distribution, whereas negative values indicate a pile-up on the right. Further the value is from zero, the more likely it is that data is not normally distributed."
   ]
  },
  {
   "cell_type": "code",
   "execution_count": 14,
   "metadata": {},
   "outputs": [
    {
     "name": "stdout",
     "output_type": "stream",
     "text": [
      "Skew of the distribution 0.368091822882\n",
      "kurtosis of the distribution -0.375431444581\n"
     ]
    }
   ],
   "source": [
    "print 'Skew of the distribution', stats.skew(sample)\n",
    "print 'kurtosis of the distribution', stats.kurtosis(sample)"
   ]
  },
  {
   "cell_type": "markdown",
   "metadata": {},
   "source": [
    "\n",
    "skewtest() and kurtosistest() functions can be used to see if the the skew and the kurtosis is different from a normal distribution."
   ]
  },
  {
   "cell_type": "code",
   "execution_count": 15,
   "metadata": {},
   "outputs": [
    {
     "data": {
      "text/plain": [
       "SkewtestResult(statistic=1.5585373511027543, pvalue=0.11910592097585736)"
      ]
     },
     "execution_count": 15,
     "metadata": {},
     "output_type": "execute_result"
    }
   ],
   "source": [
    "stats.skewtest(sample)"
   ]
  },
  {
   "cell_type": "code",
   "execution_count": 16,
   "metadata": {},
   "outputs": [
    {
     "data": {
      "text/plain": [
       "KurtosistestResult(statistic=-0.66445527691337902, pvalue=0.50639896399786166)"
      ]
     },
     "execution_count": 16,
     "metadata": {},
     "output_type": "execute_result"
    }
   ],
   "source": [
    "stats.kurtosistest(sample)"
   ]
  },
  {
   "cell_type": "markdown",
   "metadata": {},
   "source": [
    "Large samples will give rise to small standard errors and so when sample size are big, significant values will arise even from small deviations from normality. In larger samples it's OK to look for smaller p values. If the sample size is more than 200 or more it is more important to look at the shape of the distribution visually and to look at the values of the skew and kurtosis rather than calculate their significance."
   ]
  },
  {
   "cell_type": "markdown",
   "metadata": {},
   "source": [
    "#### Shapiro-Wilk test\n",
    "Shapiro-Wilk test compares the scores in the sample to a normally distributed set of scores from with the same mean and deviation. If the test is non-significant (p > 0.05) then the distribution of the sample can be assumed not to be significantly different  from a normal distribution. If the test is significant (p < 0.05) then the distribution is significantly different from a normal distribution."
   ]
  },
  {
   "cell_type": "code",
   "execution_count": 17,
   "metadata": {},
   "outputs": [
    {
     "data": {
      "text/plain": [
       "(0.9739632606506348, 0.04477466642856598)"
      ]
     },
     "execution_count": 17,
     "metadata": {},
     "output_type": "execute_result"
    }
   ],
   "source": [
    "stats.shapiro(sample)"
   ]
  },
  {
   "cell_type": "markdown",
   "metadata": {},
   "source": [
    "With large sample sizes it is very easy to get significant results from small deviations from normality."
   ]
  },
  {
   "cell_type": "code",
   "execution_count": 18,
   "metadata": {},
   "outputs": [
    {
     "data": {
      "text/plain": [
       "AndersonResult(statistic=0.75061406722498702, critical_values=array([ 0.555,  0.632,  0.759,  0.885,  1.053]), significance_level=array([ 15. ,  10. ,   5. ,   2.5,   1. ]))"
      ]
     },
     "execution_count": 18,
     "metadata": {},
     "output_type": "execute_result"
    }
   ],
   "source": [
    "stats.anderson(sample)"
   ]
  },
  {
   "cell_type": "code",
   "execution_count": null,
   "metadata": {
    "collapsed": true
   },
   "outputs": [],
   "source": []
  }
 ],
 "metadata": {
  "kernelspec": {
   "display_name": "Python [default]",
   "language": "python",
   "name": "python3"
  },
  "language_info": {
   "codemirror_mode": {
    "name": "ipython",
    "version": 3
   },
   "file_extension": ".py",
   "mimetype": "text/x-python",
   "name": "python",
   "nbconvert_exporter": "python",
   "pygments_lexer": "ipython3",
   "version": "3.5.2"
  }
 },
 "nbformat": 4,
 "nbformat_minor": 2
}
