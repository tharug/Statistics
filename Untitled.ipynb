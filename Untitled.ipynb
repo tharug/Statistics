{
 "cells": [
  {
   "cell_type": "code",
   "execution_count": 27,
   "metadata": {
    "collapsed": true
   },
   "outputs": [],
   "source": [
    "import pandas as pd\n",
    "import numpy as np\n",
    "import scipy.stats as stats\n",
    "\n",
    "import matplotlib.pyplot as plt\n",
    "import seaborn as sns"
   ]
  },
  {
   "cell_type": "code",
   "execution_count": 3,
   "metadata": {
    "collapsed": true
   },
   "outputs": [],
   "source": [
    "%matplotlib inline"
   ]
  },
  {
   "cell_type": "markdown",
   "metadata": {},
   "source": [
    "### Datatypes\n",
    "The choice of appropriate statistical procedure dependes on data type we have to deal with. Data can be broadly categorized in to two types; \n",
    "* Quantitative (Numarical)\n",
    "* Qualitative  (Categorical)\n",
    "\n",
    "Quantitative data are any data that measures or are associated with a measure of the quantity of something. Quantitative data can be subdivided into;\n",
    "* __Discrete data__  \n",
    "    Discrete data only takes on only certain numerical values, and if the range is restricted, then the number of possible values is finite. \n",
    "    Examples include;\n",
    "    1. Counts\n",
    "    2. Number of arrivals\n",
    "    3. Number of successes\n",
    "* __Continuous data__  \n",
    "    Continuous data results of measuring on a continuous scale.;\n",
    "    1. Height\n",
    "    2. Weight\n",
    "    3. Length\n",
    "    \n",
    "Distinction between discrete and continuous is not always clear cut. Sometimes in is convenient to treat discrete data  as if they were continuous.\n",
    "\n",
    "Qualitative (Categorical data)\n",
    "Quntitative data are any data that are representative of a characteristics or traits of the objects being studied. Quantitative data can be of two types.\n",
    "* __Nominal__  \n",
    "    Nominal ...\n",
    "* __Ordinal__  \n",
    "    Categorical variables that can be logically ranked is called _ordinal data_\n",
    "\n",
    "    \n"
   ]
  },
  {
   "cell_type": "code",
   "execution_count": 5,
   "metadata": {
    "collapsed": true
   },
   "outputs": [
    {
     "name": "stdout",
     "output_type": "stream",
     "text": [
      "<class 'pandas.core.frame.DataFrame'>\n",
      "RangeIndex: 100 entries, 0 to 99\n",
      "Data columns (total 3 columns):\n",
      "id        100 non-null int64\n",
      "sex       100 non-null object\n",
      "height    100 non-null int64\n",
      "dtypes: int64(2), object(1)\n",
      "memory usage: 2.4+ KB\n"
     ]
    }
   ],
   "source": [
    "df = pd.read_csv('./Data/ex1.csv')\n",
    "df.info()"
   ]
  },
  {
   "cell_type": "markdown",
   "metadata": {},
   "source": [
    "### Graphically Displaying of Categorical Data\n",
    "If each observatio falls into exactly one of the classes,we say that the classes or categories are exhaustive and exclusive. For observations that can be placed in to categories, we can count how many observations fall into each of the categories. This _frequancy counts_ describe how the data collection is distributed across the classes or categories.\n",
    "We can compute the _relative frequencies_ by dividing the count for each category by the number of items in the sample."
   ]
  },
  {
   "cell_type": "code",
   "execution_count": 26,
   "metadata": {},
   "outputs": [
    {
     "name": "stdout",
     "output_type": "stream",
     "text": [
      "Frequency Counts\n",
      " FEMALE    54\n",
      "MALE      46\n",
      "Name: sex, dtype: int64 \n",
      "\n",
      "Relative Frequencies\n",
      " FEMALE    0.54\n",
      "MALE      0.46\n",
      "Name: sex, dtype: float64\n"
     ]
    }
   ],
   "source": [
    "# Obtain frequency counts for variable 'sex'\n",
    "print ('Frequency Counts\\n',df['sex'].value_counts(),'\\n')\n",
    "print ('Relative Frequencies\\n',df['sex'].value_counts(normalize=True))"
   ]
  },
  {
   "cell_type": "code",
   "execution_count": 16,
   "metadata": {},
   "outputs": [
    {
     "data": {
      "text/plain": [
       "<matplotlib.axes._subplots.AxesSubplot at 0x1f7db247550>"
      ]
     },
     "execution_count": 16,
     "metadata": {},
     "output_type": "execute_result"
    },
    {
     "data": {
      "image/png": "[encoded data removed]",
      "text/plain": [
       "<matplotlib.figure.Figure at 0x1f7db247cc0>"
      ]
     },
     "metadata": {},
     "output_type": "display_data"
    }
   ],
   "source": [
    "# plotting frequency counts\n",
    "sns.countplot(x='sex',data=df)"
   ]
  },
  {
   "cell_type": "markdown",
   "metadata": {},
   "source": [
    "### Displaying Statistical Datasets\n",
    "#### Univariate Data\n",
    "Univariate or single variable data refers to data where we're only observing one attribute or a characteristic."
   ]
  },
  {
   "cell_type": "code",
   "execution_count": null,
   "metadata": {},
   "outputs": [],
   "source": []
  },
  {
   "cell_type": "markdown",
   "metadata": {},
   "source": [
    "**Dot plot**  \n",
    "A __dot plot__ is a one-variable scatterplot. In cases where relativly few discrete values are on the $x$-axis, it may be helpful to spread overlapping data points slightly, by adding jitter to show each data point."
   ]
  },
  {
   "cell_type": "code",
   "execution_count": 15,
   "metadata": {},
   "outputs": [
    {
     "data": {
      "text/plain": [
       "<matplotlib.axes._subplots.AxesSubplot at 0x1830cfd3e80>"
      ]
     },
     "execution_count": 15,
     "metadata": {},
     "output_type": "execute_result"
    },
    {
     "data": {
      "image/png": "[encoded data removed]",
      "text/plain": [
       "<matplotlib.figure.Figure at 0x1830d0f89e8>"
      ]
     },
     "metadata": {},
     "output_type": "display_data"
    }
   ],
   "source": [
    "plt.figure(figsize=(10,0.5))\n",
    "sns.stripplot(heights, size=10, alpha= 0.5, edgecolor='gray', linewidth=0.5)"
   ]
  },
  {
   "cell_type": "markdown",
   "metadata": {},
   "source": [
    "**Histogram**  \n",
    "Histogram is a frequently used method of displaying the distribution of continuous numerical data. Histograms are specially convenient for displaying the shape of the distribution."
   ]
  },
  {
   "cell_type": "code",
   "execution_count": 18,
   "metadata": {},
   "outputs": [
    {
     "data": {
      "image/png": "[encoded data removed]",
      "text/plain": [
       "<matplotlib.figure.Figure at 0x1830d201048>"
      ]
     },
     "metadata": {},
     "output_type": "display_data"
    }
   ],
   "source": [
    "plt.hist(heights);"
   ]
  },
  {
   "cell_type": "markdown",
   "metadata": {},
   "source": [
    "The exact shape depicted by a histogram will depend not only on the data but also on various other choices made while drawing the histogram such as, how many bins are used, whether the bins are equally spaced across the range of the variable, and just where the divisions between bins are located. But _reasonable_ choices of these arguments will lead to histograms of similar shape, and we can use these shapes to describe the underlying distribution as well as the histogram that represent it.  \n",
    "A distribution is positivly skewed, when the the data is clustered at the lower end and the tail points towerds the higher or more positive scores.  \n",
    "If the data is clustered at the higher end and the tail points towards the lower values the distribution is said to be negativly skewed."
   ]
  },
  {
   "cell_type": "markdown",
   "metadata": {},
   "source": [
    "#### Cumulative Frequencies\n",
    "A cumulative frequency curve indicates the number of data with less than a given value."
   ]
  },
  {
   "cell_type": "code",
   "execution_count": 37,
   "metadata": {},
   "outputs": [],
   "source": [
    "def ecdf(x):\n",
    "    x = np.sort(x)\n",
    "    y = np.arange(len(x))\n",
    "    \n",
    "    return (x, y/len(x))    "
   ]
  },
  {
   "cell_type": "code",
   "execution_count": 43,
   "metadata": {},
   "outputs": [
    {
     "data": {
      "text/plain": [
       "[<matplotlib.lines.Line2D at 0x1f7dd19d320>]"
      ]
     },
     "execution_count": 43,
     "metadata": {},
     "output_type": "execute_result"
    },
    {
     "data": {
      "image/png": "[encoded data removed]",
      "text/plain": [
       "<matplotlib.figure.Figure at 0x1f7dd15f5f8>"
      ]
     },
     "metadata": {},
     "output_type": "display_data"
    }
   ],
   "source": [
    "x, y = ecdf(heights)\n",
    "\n",
    "plt.figure(figsize=(4,4))\n",
    "plt.plot(x,y)"
   ]
  },
  {
   "cell_type": "markdown",
   "metadata": {},
   "source": [
    "### Measures of Central Tendency\n",
    "There are three commonly used measures of central tendency; the mean, the mode, and the median\n",
    "\n",
    "#### Mode\n",
    "The mode is simply the observation that occurs the most frequently in the data set. It is possible for the mode to take on several values (Where more than one values occures the highest number of times).\n",
    "\n",
    "When there two modes the distribution is said to be bimodal, if the data set has more than two modes it's known as multimodel.\n",
    "\n",
    "#### Mean\n",
    "For a set of n numerical measurements labled $x={\\{x_1, x_2,x_3,...x_n\\}}$ the sample mean $\\bar x$ is calculated as:\n",
    "    $$\\bar x=\\frac{x_1+x_2+x_3+...+x_n}{n}=\\frac{1}{n}\\sum_{i=1}^nx_i$$;\n",
    "    \n",
    "#### Median\n",
    "The _median_ is the middle of the observations,so that if the observations are placed in order median is the middle most value (if the number of data points is odd) or the average of the middle-most values (if the number of data points is even).\n",
    "\n",
    "$$median=\\begin{cases}\n",
    "x_\\frac{n}{2} \\text{if n is odd} \\\\\n",
    "\\\\\n",
    "\\frac{x_\\frac{n}{2}+x_{\\frac{n}{2}+1}}{2} \\text {if n is even}\n",
    "\\end{cases}$$\n",
    "\n",
    "**Comparing mean to median**  \n",
    "If a distribution is (approximately) symmetric, the mean and median will be(approximately) the same. If the distribution is positively skewed, the large values in the tail of the distribution will increase the mean, but not the median, So the mean will be larger than the median. Similarly, the mean of a negatively skewed distribution will be smaller than the median."
   ]
  },
  {
   "cell_type": "code",
   "execution_count": 44,
   "metadata": {},
   "outputs": [
    {
     "ename": "AttributeError",
     "evalue": "module 'numpy' has no attribute 'modeow'",
     "output_type": "error",
     "traceback": [
      "\u001b[0;31m---------------------------------------------------------------------------\u001b[0m",
      "\u001b[0;31mAttributeError\u001b[0m                            Traceback (most recent call last)",
      "\u001b[0;32m<ipython-input-44-302fe2dade2d>\u001b[0m in \u001b[0;36m<module>\u001b[0;34m()\u001b[0m\n\u001b[0;32m----> 1\u001b[0;31m \u001b[0mnp\u001b[0m\u001b[1;33m.\u001b[0m\u001b[0mmodeow\u001b[0m\u001b[1;33m(\u001b[0m\u001b[1;33m)\u001b[0m\u001b[1;33m\u001b[0m\u001b[0m\n\u001b[0m",
      "\u001b[0;31mAttributeError\u001b[0m: module 'numpy' has no attribute 'modeow'"
     ]
    }
   ],
   "source": [
    "np."
   ]
  },
  {
   "cell_type": "markdown",
   "metadata": {},
   "source": [
    "#### Order Statistic\n",
    "Given a data set $x_1, x_2,..., x_{n-1}, x_n $ we can sort the values to obtain an increasing sequence,\n",
    "$$x_{(1)} \\leq x_{(2)} \\leq ... \\leq x_{(n-1)} \\leq x_{(n)}$$\n",
    "The resulting values are called the order statistic. The $k^{th}$ entry in the list, $x_{(k)}$, is the $k^{th}$ order statistic, and approximately $100\\frac{k}{n}$ of the observations fall below $x_{(k)}$\n",
    "\n",
    "#### Percentile and Quartile\n",
    "For a number q between 0 and 100, the $q^{th}$ percentile is a value such that $q$ percentage of observations are less than or equal to it.\n",
    "The 50<sup>th</sup> percentile of a data collection it's the median. The $25^{th}$ percentile is also refered to as the *__first quartile__*, the 75th percentile is refered to as the *__third quartile__*"
   ]
  },
  {
   "cell_type": "markdown",
   "metadata": {},
   "source": [
    "### Measures of Spread\n",
    "#### Variance and Standard Deviation\n",
    "Variance is a summary statistic used to describe the variability or speard of a distribution. The variance for a set of values is given by;\n",
    "$$s^2=\\frac{1}{n}\\sum_i(x_i-\\bar x)^2$$\n",
    "\n",
    "The square root of variance,s, is the __standard deviation__. Since the variance is a representation of the average squared distance, the standard deviation provides a value interpretable with respective to the scale of the original observation.\n",
    "\n",
    "#### Median Absolute Deviation\n",
    "When computing the standard deviation, the distance to the mean are squared, thereby assigning more weight  to larger deviations.Therefore, the standard deviation is very sensitive to outliers.Alternatively, a more robust measure of dispersion, the median absolute deviation can be used. It is robust since the median is less sensitive to outliers and the distances are not squared.\n",
    "\n",
    "$$MAD=median(\\lvert x_i - \\tilde x_{0.5}\\rvert)$$\n",
    "\n",
    "#### Interquartile Range\n",
    "We know that the sample quartiles are resistant to extreams, and a measure of spread with them is the interquartile range (IQR), defined as the difference between Q1 and Q3."
   ]
  },
  {
   "cell_type": "code",
   "execution_count": null,
   "metadata": {},
   "outputs": [],
   "source": [
    "statmo"
   ]
  },
  {
   "cell_type": "markdown",
   "metadata": {},
   "source": [
    "**Boxplot**\n",
    "**Bar chart**"
   ]
  },
  {
   "cell_type": "markdown",
   "metadata": {},
   "source": [
    "#### Bivariate\n",
    "Scatterplot\n",
    "Density plots\n",
    "Stacked Bar charts\n",
    "Side by side barcharts\n"
   ]
  },
  {
   "cell_type": "markdown",
   "metadata": {},
   "source": [
    "#### Multivariate\n"
   ]
  },
  {
   "cell_type": "markdown",
   "metadata": {},
   "source": [
    "np.mean(x)"
   ]
  },
  {
   "cell_type": "markdown",
   "metadata": {},
   "source": [
    "1/12"
   ]
  },
  {
   "cell_type": "markdown",
   "metadata": {},
   "source": []
  }
 ],
 "metadata": {
  "anaconda-cloud": {},
  "kernelspec": {
   "display_name": "Python [conda root]",
   "language": "python",
   "name": "conda-root-py"
  },
  "language_info": {
   "codemirror_mode": {
    "name": "ipython",
    "version": 3
   },
   "file_extension": ".py",
   "mimetype": "text/x-python",
   "name": "python",
   "nbconvert_exporter": "python",
   "pygments_lexer": "ipython3",
   "version": "3.5.2"
  }
 },
 "nbformat": 4,
 "nbformat_minor": 2
}
