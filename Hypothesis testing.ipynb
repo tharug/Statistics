{
 "cells": [
  {
   "cell_type": "code",
   "execution_count": 3,
   "metadata": {},
   "outputs": [],
   "source": [
    "# Imports packages for data manipulation\n",
    "import numpy as np\n",
    "import pandas as pd\n",
    "import scipy.stats as stats\n",
    "\n",
    "# Import packages for visualisations\n",
    "import matplotlib.pyplot as plt \n",
    "import seaborn as sns"
   ]
  },
  {
   "cell_type": "code",
   "execution_count": 4,
   "metadata": {},
   "outputs": [],
   "source": [
    "%matplotlib inline"
   ]
  },
  {
   "cell_type": "markdown",
   "metadata": {},
   "source": [
    "Hypothesis testing is a method to test a claim or assertion about a particular parameter of a population. In hypothesis testing we'll evaluate two mutually exclusive opposing hypotheses, to conclude on the population parameter.\n",
    "\n",
    "The null hypothesis ($H_0$) represents either the skeptical perspective or a claim to be tested. In general, the null hypothesis states that the treatment has no effect, no change or no difference.\n",
    "\n",
    "The alternative hypothesis ($H_a$) states that there is a change, a difference or a relationship for the general population. Often we will state the alternative hypothesis as a possible parameter values. \n",
    "\n",
    "In hypothesis testing, we will reject the null hypothesis when the sample evidence suggest that it is far more likely that the alternative hypothesis is true. Failure to reject the null hypothesis does not prove that the null hypothesis is true. However, when we reject the null hypothesis we have statistical proof that the alternative hypothesis is correct.\n",
    "\n",
    "#### YRBSS Dataset\n",
    "The `yrbss_samp` data set contains a random sample of respondents of YRBSS survey in 2013. We will compare data from the 2011 YRBSS to our sample of 100 students from the 2013 survey.\n",
    "\n",
    "Suppose that the number of days a YRBSS respondents lifted weights an average of 3.09 days in 2011. We want to determine if the `yrbss_samp` data set provides strong evidence that YRBSS students selected in 2013 are lifting more or less than the 2011 YRBSS students. We can summarize this under the hypothesis testing framework as;  \n",
    "**Null Hypothesis** ($H_0$) : The average days per week that a student lifted weights was same for 2011 and 2013.  \n",
    "**Alternative Hypothesis** ($H_a$) : The average days per week that a student lifted weights was different for 2013 than 2011.\n",
    "\n",
    "Mathematically, we can state these hypothesis as follows;  \n",
    "$$H_0: \\mu_{13}=3.09$$\n",
    "$$H_a: \\mu_{13} \\neq 3.09$$\n",
    "\n",
    "The reference value for the parameter in $H_0$ is called the **null value**.  \n",
    "If the null hypothesis is true, we would expect the sample statistic to be close to the population parameter. If the sample statistic is close to the population parameter we would not have sufficient evidence to reject the null hypothesis. However, if there is a large difference between the sample statistic and the population parameter, we might conclude that the null hypothesis is false."
   ]
  },
  {
   "cell_type": "markdown",
   "metadata": {},
   "source": [
    "### Testing Hypothesis using confidence interval\n",
    "When we take random samples from a population, the point estimate and the true population mean can vary due to the _sampling variation_. Given a point estimate we can use confidence intervals to find a range of possible values for the population mean."
   ]
  },
  {
   "cell_type": "code",
   "execution_count": 11,
   "metadata": {},
   "outputs": [
    {
     "data": {
      "text/plain": [
       "(2.2750201668193153, 3.2849798331806843)"
      ]
     },
     "execution_count": 11,
     "metadata": {},
     "output_type": "execute_result"
    }
   ],
   "source": [
    "yrbss_sample = pd.read_csv('./Data/yrbss_samp.csv')\n",
    "weight = yrbss_sample['strength_training_7d'].dropna()\n",
    "\n",
    "# Sample mean\n",
    "s_mean = weight.mean()\n",
    "\n",
    "# Standard Error\n",
    "standard_error = weight.std()/np.sqrt(len(weight))\n",
    "\n",
    "# Using the sample mean and the standard error, it is possible to \n",
    "# construct the 95% confidence interval;\n",
    "s_mean - 1.96*standard_error, s_mean + 1.96*standard_error"
   ]
  },
  {
   "cell_type": "markdown",
   "metadata": {},
   "source": [
    "We can be 95% confident that the average number of days per week that all students from the 2013 YRBSS lifted weights was between 2.27 and 3.28 days.\n",
    "\n",
    "Because our null value (average in 2011) is 3.09, falls within the the confidence interval, we cannot say the null hypothesis is implasible. Thus, we fail to reject the null hypothesis"
   ]
  },
  {
   "cell_type": "markdown",
   "metadata": {},
   "source": [
    "### Hypothesis Testing Using p-values\n",
    "\n",
    "\n",
    "> ##### Gender Discrimination Study\n",
    "> Suppose that we conducted an experiment to see whether therer is gender discrimination when making promotion decisions. For the experiment 48 male bank supervisors were each given the same personnel file and asked to judge whether the person should be promoted to a branch manager job. \n",
    "The files were identical except that half of the supervisors had files showing the person was male while the other half had files showing the person was female. The files are randomly assigned to the supervisors. Of the 48 files reviewed, 35 were promoted. Out of the 35 promoted 21 files was male and 14 files was female.  \n",
    "\n",
    "The difference 29.2%, ($\\frac{21}{24} - \\frac{14}{24}$), is a **point estimate** of the true effect.  \n",
    "If that the promotion decision is independent of gender, we would expect the same percentage of females and males to be promoted. The sampling distribution of the percentage difference would be centered at 0, with random fluctuations due to sampling variations. Under the hypothesis testing framework we can state the null hypothesis and the alternative hypothesis as;  \n",
    "$H_0 : p_{(male)} - p_{(female)}=0$ (The promotion decision is independent of the gender)  \n",
    "$H_A : p_{(male)} - p_{(female)} >= 0$ (The promotion decision is not independent of the gender, and females are discriminated against in promotion decisions).\n",
    "\n",
    "Suppsing that gender does not affect the promotion decision, We can simulate this experiment by taking 48 personnel file, 24 labled male and 24 labled female, and randomly assigning the files to two stakes. We will assign 35  files to the first stake, representing the 35 recommendations for promotion. The second stack will have 13 files representing the non-promotions. \n",
    "\n",
    "If we repeated the simulation 1000 times we can get a good idea of the distribution of differences from chance alone."
   ]
  },
  {
   "cell_type": "code",
   "execution_count": 154,
   "metadata": {},
   "outputs": [
    {
     "name": "stdout",
     "output_type": "stream",
     "text": [
      "Instances where difference was grater than or equal to 29.2%:\n",
      "\t 2\n",
      "Instances where difference was grater than or equal to 29.2%:\n",
      "\t 0.0002\n"
     ]
    },
    {
     "data": {
      "image/png": "[encoded data removed]",
      "text/plain": [
       "<matplotlib.figure.Figure at 0x2c8f2a11080>"
      ]
     },
     "metadata": {},
     "output_type": "display_data"
    }
   ],
   "source": [
    "population = np.array(['male', 'female']*24)\n",
    "diff = np.zeros(1000)\n",
    "\n",
    "for s in range(0,1000):\n",
    "    np.random.seed(s*s)\n",
    "    np.random.shuffle(population)\n",
    "    promoted = population[:35]\n",
    "    p_male = np.sum(promoted=='male') /24\n",
    "    p_female = np.sum(promoted=='female') /24\n",
    "    \n",
    "    diff[s]=(p_male - p_female)\n",
    "    \n",
    "plt.hist(diff);\n",
    "print ('Instances where difference was grater than or equal to 29.2%:\\n\\t',np.sum(diff>= .292))\n",
    "print ('Instances where difference was grater than or equal to 29.2%:\\n\\t',np.sum(diff>= .292)/10000)"
   ]
  },
  {
   "cell_type": "code",
   "execution_count": 157,
   "metadata": {},
   "outputs": [
    {
     "data": {
      "text/plain": [
       "0.20833333333333337"
      ]
     },
     "execution_count": 157,
     "metadata": {},
     "output_type": "execute_result"
    }
   ],
   "source": [
    "np.percentile(diff,95)"
   ]
  },
  {
   "cell_type": "markdown",
   "metadata": {},
   "source": [
    "According to the stimulation a difference of at least 29.2% due to chance alone would happen about 0.2% of the time.\n",
    "Given this probability we can interpret the hypothesis as;  \n",
    "$H_0$: Given that gender has no effect on promotion decision, the observed difference would only happen rarely.  \n",
    "$H_A$: Gender has an effect on promotion decision, which is why such a large difference was observed.\n",
    "\n",
    "The 2 in 1,000 chance of getting a difference of 29.2% or greater, while the null hypothesis is true is called the **p-value**. This 0.002 probability quantifies the strenght of evidence against the null hypothesis.\n",
    "\n",
    "Typically, we use a summary statistic, difference in proportions in this case, to help compute the p-value and evaluate the hypothesis. The summary statistic used  to compute the p-value is often called the **test statistic**."
   ]
  },
  {
   "cell_type": "markdown",
   "metadata": {},
   "source": [
    "When performing hypothesis testing we use limited or incomplete information based on the sample to reach a general conclusion about the whole population. Although the sample data are usually representative of the population, there is always a chance that the sample is misleading and will cause us to make the wrong conclusion. In hypothesis testing there are two different kind of errors that can be made.\n",
    "\n",
    "**Type I Errors** will occure when $H_0$ is actually true, but it so happens that we reject the null hypothesis. For example, suppose $H_0$ is true and that there is no gender discrimenation, but we drew a sample with a mean that is much more than 0 and we wrongfully reject the null hypothesis. The probability of making a Type I error is called the **significance level** and is symbolized by the value $\\alpha$.\n",
    "\n",
    "**Type II Error** occurs when a false null hypothesis is not rejected. The probability of committing a Type II error, is given by $\\beta$.\n",
    "\n",
    "The complement of $\\alpha$ ,$(1-\\alpha)$, is called the confidence coefficient. The confident coefficient is the probability that we will not reject the null hypothesis,$H_0$, when it is true and should not be rejected.\n",
    "\n",
    "The complement of the probability of a Type II error,$(1-\\beta)$, is called the _power of a statistical test_. The power of a statistical test is the probability that null hypothesis will be rejected when it is false and it should be rejected."
   ]
  },
  {
   "cell_type": "markdown",
   "metadata": {},
   "source": [
    "The sampling distribution of the test statistic is divided in to two regions, a rejection region and a region of non-rejection. If the test statistic falls into the region of nonrejection, we would not reject the null hypothesis, If the test statistic falls into the rejection region, we will reject the null hypothesis.\n",
    "\n",
    "The region of rejection consist of the values of the test statistic that are unlikely to occure if the null hypothesis is true. The size of the rejection region depends of the value assigned to $\\alpha$. Generally, we would use alpha levels of 0.05, 0.01 and 0.001. By rejecting $H_0$, we are saying that the difference between the null value and the test statistic is small, and may have occured because of sampling error alone.\n",
    "\n",
    "When we are interested in checking for an increase or decease, but not both, we will use an **one-sided test**. The one-tailed test is called a **left-tailed test** if the rejection region is in the left tail of the discribution curve, and is called a **right-tailed test** if the rejection region is in the right tail of the distribution curve. The area of the rejection region is $\\alpha$.\n",
    "We will use an left-tailed test if the hypothesis checks for an decrease in the population parameter, and a right-tailed test if the hypothesis checks for an increase in the population parameter.\n",
    "\n",
    "If the alternative hypothesis checks for an difference in either direction, we will use an **two-tailed test**, which has two rejection regions, one in each tail of the distribution. The area in each rejection region is $\\alpha/2$. We will reject the $H_0$ if the test statistic falls in either of the two rejection regions.\n",
    "\n",
    "Given a significance level of 0.05,a left-tailed test will have a rejection region that include the $0^{th}$ to $5^{th}$ percentile of values,while a right-tailed test will include values from $95^{th}$ to $100^{th}$ percentile."
   ]
  },
  {
   "cell_type": "code",
   "execution_count": 167,
   "metadata": {},
   "outputs": [
    {
     "data": {
      "text/plain": [
       "<matplotlib.collections.LineCollection at 0x2c8f29d8400>"
      ]
     },
     "execution_count": 167,
     "metadata": {},
     "output_type": "execute_result"
    },
    {
     "data": {
      "image/png": "[encoded data removed]",
      "text/plain": [
       "<matplotlib.figure.Figure at 0x2c8f263b2b0>"
      ]
     },
     "metadata": {},
     "output_type": "display_data"
    }
   ],
   "source": [
    "plt.hist(diff,bins=20);\n",
    "plt.vlines(x = np.percentile(diff,95),ymin = 0, ymax = 300, color ='red')\n",
    "plt.vlines(x = 0.292,ymin = 0, ymax = 300,color='grey')"
   ]
  },
  {
   "cell_type": "markdown",
   "metadata": {},
   "source": [
    "Under the $p-value$ approach, we reject the null hypothesis if $$\\text{p-value} \\leq \\alpha \\text{ or } \\text{p-value} \\geq \\alpha$$ and we do not reject the null hypothesis if $$\\text{p-value} < \\alpha \\text{ or } \\text{p-value} > \\alpha$$"
   ]
  },
  {
   "cell_type": "code",
   "execution_count": 133,
   "metadata": {},
   "outputs": [
    {
     "data": {
      "image/png": "[encoded data removed]",
      "text/plain": [
       "<matplotlib.figure.Figure at 0x2c8f2917c50>"
      ]
     },
     "metadata": {},
     "output_type": "display_data"
    }
   ],
   "source": [
    "population = np.array(['control', 'treatment']*75)\n",
    "diff = np.zeros(10000)\n",
    "\n",
    "for s in range(0,10000):\n",
    "    np.random.seed(2)\n",
    "    np.random.shuffle(population)\n",
    "    buy_dvd , not_buy = np.split(population,2)\n",
    "    p_ctrl = np.sum(buy_dvd=='control') /75\n",
    "    p_trmt = np.sum(buy_dvd=='treatment') /75\n",
    "    \n",
    "    diff[s]=(p_trmt - p_ctrl)\n",
    "    \n",
    "plt.hist(diff,bins=np.arange(-.3,.3,0.025));"
   ]
  },
  {
   "cell_type": "code",
   "execution_count": 168,
   "metadata": {},
   "outputs": [
    {
     "data": {
      "text/plain": [
       "3"
      ]
     },
     "execution_count": 168,
     "metadata": {},
     "output_type": "execute_result"
    }
   ],
   "source": [
    "3"
   ]
  },
  {
   "cell_type": "code",
   "execution_count": null,
   "metadata": {},
   "outputs": [],
   "source": []
  }
 ],
 "metadata": {
  "kernelspec": {
   "display_name": "Python [default]",
   "language": "python",
   "name": "python3"
  },
  "language_info": {
   "codemirror_mode": {
    "name": "ipython",
    "version": 3
   },
   "file_extension": ".py",
   "mimetype": "text/x-python",
   "name": "python",
   "nbconvert_exporter": "python",
   "pygments_lexer": "ipython3",
   "version": "3.5.2"
  }
 },
 "nbformat": 4,
 "nbformat_minor": 2
}
